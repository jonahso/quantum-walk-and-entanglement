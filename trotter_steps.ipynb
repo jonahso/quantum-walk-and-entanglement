{
  "cells": [
    {
      "cell_type": "markdown",
      "id": "0738b71e-b446-4f9d-a099-657bfa5e1ec1",
      "metadata": {
        "id": "0738b71e-b446-4f9d-a099-657bfa5e1ec1"
      },
      "source": [
        "Author: Jonah So\n",
        "\n",
        "email: jonahso@ucsb.edu"
      ]
    },
    {
      "cell_type": "code",
      "source": [
        "pip install cudaq"
      ],
      "metadata": {
        "colab": {
          "base_uri": "https://localhost:8080/"
        },
        "id": "6NYmX7OFkZCi",
        "outputId": "e29ff7ec-44fc-42f5-e7b7-84cb8fd6754f"
      },
      "id": "6NYmX7OFkZCi",
      "execution_count": 2,
      "outputs": [
        {
          "output_type": "stream",
          "name": "stdout",
          "text": [
            "Requirement already satisfied: cudaq in /usr/local/lib/python3.12/dist-packages (0.12.0.post1)\n",
            "Requirement already satisfied: cuda-quantum-cu12==0.12.0.post1 in /usr/local/lib/python3.12/dist-packages (from cudaq) (0.12.0.post1)\n",
            "Requirement already satisfied: astpretty~=3.0 in /usr/local/lib/python3.12/dist-packages (from cuda-quantum-cu12==0.12.0.post1->cudaq) (3.0.0)\n",
            "Requirement already satisfied: cuquantum-cu12>=25.06 in /usr/local/lib/python3.12/dist-packages (from cuda-quantum-cu12==0.12.0.post1->cudaq) (25.9.0)\n",
            "Requirement already satisfied: numpy>=1.24 in /usr/local/lib/python3.12/dist-packages (from cuda-quantum-cu12==0.12.0.post1->cudaq) (2.0.2)\n",
            "Requirement already satisfied: scipy>=1.10.1 in /usr/local/lib/python3.12/dist-packages (from cuda-quantum-cu12==0.12.0.post1->cudaq) (1.16.2)\n",
            "Requirement already satisfied: requests>=2.31 in /usr/local/lib/python3.12/dist-packages (from cuda-quantum-cu12==0.12.0.post1->cudaq) (2.32.4)\n",
            "Requirement already satisfied: nvidia-cublas-cu12~=12.0 in /usr/local/lib/python3.12/dist-packages (from cuda-quantum-cu12==0.12.0.post1->cudaq) (12.6.4.1)\n",
            "Requirement already satisfied: nvidia-curand-cu12~=10.3 in /usr/local/lib/python3.12/dist-packages (from cuda-quantum-cu12==0.12.0.post1->cudaq) (10.3.7.77)\n",
            "Requirement already satisfied: nvidia-cusparse-cu12~=12.5 in /usr/local/lib/python3.12/dist-packages (from cuda-quantum-cu12==0.12.0.post1->cudaq) (12.5.4.2)\n",
            "Requirement already satisfied: nvidia-cuda-runtime-cu12~=12.0 in /usr/local/lib/python3.12/dist-packages (from cuda-quantum-cu12==0.12.0.post1->cudaq) (12.6.77)\n",
            "Requirement already satisfied: nvidia-cusolver-cu12~=11.4 in /usr/local/lib/python3.12/dist-packages (from cuda-quantum-cu12==0.12.0.post1->cudaq) (11.7.1.2)\n",
            "Requirement already satisfied: nvidia-cuda-nvrtc-cu12~=12.0 in /usr/local/lib/python3.12/dist-packages (from cuda-quantum-cu12==0.12.0.post1->cudaq) (12.6.77)\n",
            "Requirement already satisfied: cupy-cuda12x<=13.4.1,>=13.0.0 in /usr/local/lib/python3.12/dist-packages (from cuda-quantum-cu12==0.12.0.post1->cudaq) (13.3.0)\n",
            "Requirement already satisfied: fastrlock>=0.5 in /usr/local/lib/python3.12/dist-packages (from cupy-cuda12x<=13.4.1,>=13.0.0->cuda-quantum-cu12==0.12.0.post1->cudaq) (0.8.3)\n",
            "Requirement already satisfied: custatevec-cu12==1.10.0 in /usr/local/lib/python3.12/dist-packages (from cuquantum-cu12>=25.06->cuda-quantum-cu12==0.12.0.post1->cudaq) (1.10.0)\n",
            "Requirement already satisfied: cutensornet-cu12==2.9.0 in /usr/local/lib/python3.12/dist-packages (from cuquantum-cu12>=25.06->cuda-quantum-cu12==0.12.0.post1->cudaq) (2.9.0)\n",
            "Requirement already satisfied: cudensitymat-cu12==0.3.0 in /usr/local/lib/python3.12/dist-packages (from cuquantum-cu12>=25.06->cuda-quantum-cu12==0.12.0.post1->cudaq) (0.3.0)\n",
            "Requirement already satisfied: cutensor-cu12<3,>=2.3.1 in /usr/local/lib/python3.12/dist-packages (from cudensitymat-cu12==0.3.0->cuquantum-cu12>=25.06->cuda-quantum-cu12==0.12.0.post1->cudaq) (2.3.1)\n",
            "Requirement already satisfied: nvidia-nvjitlink-cu12 in /usr/local/lib/python3.12/dist-packages (from nvidia-cusolver-cu12~=11.4->cuda-quantum-cu12==0.12.0.post1->cudaq) (12.6.85)\n",
            "Requirement already satisfied: charset_normalizer<4,>=2 in /usr/local/lib/python3.12/dist-packages (from requests>=2.31->cuda-quantum-cu12==0.12.0.post1->cudaq) (3.4.3)\n",
            "Requirement already satisfied: idna<4,>=2.5 in /usr/local/lib/python3.12/dist-packages (from requests>=2.31->cuda-quantum-cu12==0.12.0.post1->cudaq) (3.10)\n",
            "Requirement already satisfied: urllib3<3,>=1.21.1 in /usr/local/lib/python3.12/dist-packages (from requests>=2.31->cuda-quantum-cu12==0.12.0.post1->cudaq) (2.5.0)\n",
            "Requirement already satisfied: certifi>=2017.4.17 in /usr/local/lib/python3.12/dist-packages (from requests>=2.31->cuda-quantum-cu12==0.12.0.post1->cudaq) (2025.8.3)\n"
          ]
        }
      ]
    },
    {
      "cell_type": "code",
      "execution_count": 3,
      "id": "7dfdff13-d146-48fa-b997-1cc346e09487",
      "metadata": {
        "execution": {
          "iopub.execute_input": "2025-09-25T00:42:38.299037Z",
          "iopub.status.busy": "2025-09-25T00:42:38.298788Z",
          "iopub.status.idle": "2025-09-25T00:42:38.301536Z",
          "shell.execute_reply": "2025-09-25T00:42:38.301174Z",
          "shell.execute_reply.started": "2025-09-25T00:42:38.299022Z"
        },
        "id": "7dfdff13-d146-48fa-b997-1cc346e09487"
      },
      "outputs": [],
      "source": [
        "import cudaq\n",
        "import numpy as np\n",
        "import time\n",
        "import sys\n",
        "from cudaq import spin\n",
        "from cudaq import State\n",
        "import matplotlib.pyplot as plt\n",
        "from typing import List\n",
        "# from plot_config import *"
      ]
    },
    {
      "cell_type": "code",
      "execution_count": 4,
      "id": "184bb2a6-9e34-4aa4-ae59-4fafaac5a5e4",
      "metadata": {
        "execution": {
          "iopub.execute_input": "2025-09-25T00:42:38.302406Z",
          "iopub.status.busy": "2025-09-25T00:42:38.302157Z",
          "iopub.status.idle": "2025-09-25T00:42:38.310917Z",
          "shell.execute_reply": "2025-09-25T00:42:38.310570Z",
          "shell.execute_reply.started": "2025-09-25T00:42:38.302392Z"
        },
        "id": "184bb2a6-9e34-4aa4-ae59-4fafaac5a5e4"
      },
      "outputs": [],
      "source": [
        "@cudaq.kernel\n",
        "def get_initial_state(n_spins: int):\n",
        "    \"\"\"Create initial state |1010...>\"\"\"\n",
        "    qubits = cudaq.qvector(n_spins)\n",
        "    for i in range(0, n_spins, 2):\n",
        "        x(qubits[i])"
      ]
    },
    {
      "cell_type": "markdown",
      "id": "0dca7264-4a50-409f-8c05-b4f61a3db2bd",
      "metadata": {
        "execution": {
          "iopub.execute_input": "2025-08-27T11:29:02.413999Z",
          "iopub.status.busy": "2025-08-27T11:29:02.413607Z",
          "iopub.status.idle": "2025-08-27T11:29:02.423174Z",
          "shell.execute_reply": "2025-08-27T11:29:02.422713Z",
          "shell.execute_reply.started": "2025-08-27T11:29:02.413984Z"
        },
        "id": "0dca7264-4a50-409f-8c05-b4f61a3db2bd"
      },
      "source": [
        "### First-Order Product Formula (PF1)\n",
        "\n",
        "We can decompose the Hamiltonian as:\n",
        "\n",
        "$\n",
        "H = \\sum_{l=1}^L H_l = \\sum_{l=1}^L c_l P_l\n",
        "$\n",
        "\n",
        "where:\n",
        "- $c_l \\in \\mathbb{R}$ are the coefficients,\n",
        "- $P_l$ are Pauli words (tensor products of Pauli matrices).\n",
        "\n",
        "The ideal time evolution operator is:\n",
        "$\n",
        "U(t) = e^{-i H t}\n",
        "$\n",
        "\n",
        "The first-order Trotter approximation replaces this by sequentially applying each term:\n",
        "$\n",
        "U(\\delta t) \\;\\approx\\; \\prod_{l} e^{-i H_l \\, \\delta t}\n",
        "$\n"
      ]
    },
    {
      "cell_type": "markdown",
      "id": "6104c279-b238-4a08-bbde-1154c13ac382",
      "metadata": {
        "id": "6104c279-b238-4a08-bbde-1154c13ac382"
      },
      "source": [
        "### Second-order Product Formulas (PF2)\n",
        "The second-order approximation is a combination of evolutions in both increasing and decreasing orders of indice.\n",
        "More formally, we can write this as:\n",
        "\n",
        "$\n",
        "U(\\delta t) \\;\\approx\\; \\prod_{l} e^{-i H_l \\, \\delta t / 2} \\prod_{l} e^{-i H_l \\, \\delta t / 2}  \n",
        "$\n",
        "\n",
        "- Each term $H_l$ is applied twice with a half-step $\\delta t / 2$.\n",
        "- The first product applies the exponentials in increasing order of $l$.\n",
        "- The second product applies them in decreasing order of $l$."
      ]
    },
    {
      "cell_type": "markdown",
      "id": "233965a0-62fa-4dbe-8ddc-c04287946eb3",
      "metadata": {
        "id": "233965a0-62fa-4dbe-8ddc-c04287946eb3"
      },
      "source": [
        "The following code creates the model that was used in the paper: **QIMF**\n",
        "\n",
        "The hamiltonian is defined as the following:\n",
        "\n",
        "$\n",
        "H \\;=\\;\n",
        "h_x \\sum_{j=1}^N X_j \\;+\\;\n",
        "h_y \\sum_{j=1}^N Y_j \\;+\\;\n",
        "J \\sum_{j=1}^{N-1} X_j X_{j+1}\n",
        "$\n",
        "\n",
        "- $X_j, Y_j, Z_j$: Pauli operators on qubit \\(j\\).\n"
      ]
    },
    {
      "cell_type": "code",
      "execution_count": 5,
      "id": "b0fed87f-0ea8-4ea3-8d65-a98252f00553",
      "metadata": {
        "execution": {
          "iopub.execute_input": "2025-09-25T00:42:38.311467Z",
          "iopub.status.busy": "2025-09-25T00:42:38.311327Z",
          "iopub.status.idle": "2025-09-25T00:42:38.314079Z",
          "shell.execute_reply": "2025-09-25T00:42:38.313739Z",
          "shell.execute_reply.started": "2025-09-25T00:42:38.311454Z"
        },
        "id": "b0fed87f-0ea8-4ea3-8d65-a98252f00553"
      },
      "outputs": [],
      "source": [
        "def create_hamiltonian_qimf(n_spins: int, J: float, h_x: float, h_y: float):\n",
        "    A = 0\n",
        "    B = 0\n",
        "    for j in range(n_spins - 1):\n",
        "        A += J * spin.x(j) * spin.x(j + 1)\n",
        "\n",
        "    for j in range(n_spins):\n",
        "        A += h_x * spin.x(j)\n",
        "        B += h_y * spin.y(j)\n",
        "\n",
        "    return A, B, A+B"
      ]
    },
    {
      "cell_type": "markdown",
      "id": "4e73881a-d0f0-4818-9ded-684320ce6e66",
      "metadata": {
        "execution": {
          "iopub.execute_input": "2025-08-27T11:30:38.385252Z",
          "iopub.status.busy": "2025-08-27T11:30:38.384902Z",
          "iopub.status.idle": "2025-08-27T11:30:38.394144Z",
          "shell.execute_reply": "2025-08-27T11:30:38.393675Z",
          "shell.execute_reply.started": "2025-08-27T11:30:38.385236Z"
        },
        "id": "4e73881a-d0f0-4818-9ded-684320ce6e66"
      },
      "source": [
        "### Trotter Approximation (PF1)\n",
        "The time-evolution operator\n",
        "$\n",
        "e^{-i H \\delta t}\n",
        "$\n",
        " can be split into two non-commuting parts:\n",
        "\n",
        "$\n",
        "A = h_x \\sum_j X_j \\;+\\; J \\sum_j X_j X_{j+1},\n",
        "\\qquad\n",
        "B = h_y \\sum_j Y_j\n",
        "$\n",
        "\n",
        "so that the first-order Trotter step is:\n",
        "\n",
        "$\n",
        "\\mathcal{U}_1(\\delta t) \\;\\approx\\; e^{-i A \\delta t} \\, e^{-i B \\delta t}\n",
        "$"
      ]
    },
    {
      "cell_type": "code",
      "execution_count": 6,
      "id": "89e43405-4d97-4c6c-8396-3e80ba3b7659",
      "metadata": {
        "execution": {
          "iopub.execute_input": "2025-09-25T00:42:38.314669Z",
          "iopub.status.busy": "2025-09-25T00:42:38.314535Z",
          "iopub.status.idle": "2025-09-25T00:42:38.322045Z",
          "shell.execute_reply": "2025-09-25T00:42:38.321702Z",
          "shell.execute_reply.started": "2025-09-25T00:42:38.314657Z"
        },
        "id": "89e43405-4d97-4c6c-8396-3e80ba3b7659"
      },
      "outputs": [],
      "source": [
        "@cudaq.kernel\n",
        "def trotter_step_pf1 (state: cudaq.State, dt: float, c_a: List[complex], c_b: List[complex], words_a: List[cudaq.pauli_word], words_b: List[cudaq.pauli_word]):\n",
        "    qubits = cudaq.qvector(state)\n",
        "\n",
        "    for i in range(len(c_a)):\n",
        "        exp_pauli(-c_a[i].real * dt, qubits, words_a[i])\n",
        "\n",
        "    for i in range(len(c_b)):\n",
        "        exp_pauli(-c_b[i].real * dt, qubits, words_b[i])\n"
      ]
    },
    {
      "cell_type": "markdown",
      "id": "1fc9ba77-f2a8-4f7f-8874-e220fd17ae63",
      "metadata": {
        "id": "1fc9ba77-f2a8-4f7f-8874-e220fd17ae63"
      },
      "source": [
        "### Trotter Approximation (PF2)\n",
        "Similar to PF1, we can define\n",
        "\n",
        "$\n",
        "U(\\delta t) \\;\\approx\\;\n",
        "e^{-i A \\, \\tfrac{\\delta t}{2}} \\,\n",
        "e^{-i B \\, \\delta t} \\,\n",
        "e^{-i A \\, \\tfrac{\\delta t}{2}}\n",
        "$\n",
        "\n",
        "We apply all A-terms again with half timestep $\\delta t / 2$, in reverse order for symmetry."
      ]
    },
    {
      "cell_type": "code",
      "execution_count": 7,
      "id": "08c6bb36-f68c-44bd-80ff-6d56fcc9db4b",
      "metadata": {
        "execution": {
          "iopub.execute_input": "2025-09-25T00:42:38.323260Z",
          "iopub.status.busy": "2025-09-25T00:42:38.322885Z",
          "iopub.status.idle": "2025-09-25T00:42:38.329419Z",
          "shell.execute_reply": "2025-09-25T00:42:38.329060Z",
          "shell.execute_reply.started": "2025-09-25T00:42:38.323247Z"
        },
        "id": "08c6bb36-f68c-44bd-80ff-6d56fcc9db4b"
      },
      "outputs": [],
      "source": [
        "@cudaq.kernel\n",
        "def trotter_step_pf2(state: cudaq.State, dt: float, c_a: List[complex], c_b: List[complex], words_a: List[cudaq.pauli_word], words_b: List[cudaq.pauli_word]):\n",
        "\n",
        "    qubits = cudaq.qvector(state)\n",
        "\n",
        "    for i in range(len(words_a)):\n",
        "        exp_pauli(-c_a[i].real * (0.5*dt), qubits, words_a[i])\n",
        "\n",
        "    for i in range(len(words_b)):\n",
        "        exp_pauli(-c_b[i].real * dt, qubits, words_b[i])\n",
        "\n",
        "    for i in range(len(words_a)-1, -1, -1):\n",
        "        exp_pauli(-c_a[i].real * (0.5*dt), qubits, words_a[i])\n"
      ]
    },
    {
      "cell_type": "markdown",
      "id": "01b92856-3ac9-4e36-a930-0efdbb8076da",
      "metadata": {
        "id": "01b92856-3ac9-4e36-a930-0efdbb8076da"
      },
      "source": [
        "Here, we extract coefficients and words from Hamiltonian for decomposition."
      ]
    },
    {
      "cell_type": "code",
      "execution_count": 8,
      "id": "f338169f-0064-405c-9770-0a67ce669d52",
      "metadata": {
        "execution": {
          "iopub.execute_input": "2025-09-25T00:42:38.330008Z",
          "iopub.status.busy": "2025-09-25T00:42:38.329873Z",
          "iopub.status.idle": "2025-09-25T00:42:38.332591Z",
          "shell.execute_reply": "2025-09-25T00:42:38.332265Z",
          "shell.execute_reply.started": "2025-09-25T00:42:38.329995Z"
        },
        "id": "f338169f-0064-405c-9770-0a67ce669d52"
      },
      "outputs": [],
      "source": [
        "def extractCoefficients(hamiltonian: cudaq.SpinOperator):\n",
        "    result = []\n",
        "    for term in hamiltonian:\n",
        "        result.append(term.get_coefficient())\n",
        "    return result\n",
        "\n",
        "def extractWords(hamiltonian: cudaq.SpinOperator):\n",
        "    n_spins = hamiltonian.qubit_count\n",
        "    result = []\n",
        "    for term in hamiltonian:\n",
        "        result.append(term.get_pauli_word(n_spins))\n",
        "    return result"
      ]
    },
    {
      "cell_type": "markdown",
      "id": "ddafbee3-4a29-44bb-b193-33b4440ec770",
      "metadata": {
        "id": "ddafbee3-4a29-44bb-b193-33b4440ec770"
      },
      "source": [
        "### Entropy Measure\n",
        "\n",
        "Given a pure state $|\\psi\\rangle$ of an $n$-qubit system, the reduced density matrix for a subset of qubits $A$ is\n",
        "\n",
        "$\n",
        "\\rho_A = \\mathrm{Tr}_B \\big( |\\psi\\rangle \\langle \\psi | \\big),\n",
        "$\n",
        "\n",
        "where $B$ is the set of qubits traced out.\n",
        "\n",
        "We can quantify its entanglement with the rest of the system by calculating von Neumann entropy:\n",
        "\n",
        "$S(\\rho) = - \\text {Tr} [\\rho \\log \\rho] = - \\sum_i \\lambda_i \\log_2 \\lambda_i$\n",
        "\n",
        "where $\\lambda_i$ are the eigenvalues of the reduced density matrix."
      ]
    },
    {
      "cell_type": "code",
      "execution_count": 9,
      "id": "740ba553-1caa-4407-951a-76bc19e0c238",
      "metadata": {
        "execution": {
          "iopub.execute_input": "2025-09-25T00:42:38.333169Z",
          "iopub.status.busy": "2025-09-25T00:42:38.332954Z",
          "iopub.status.idle": "2025-09-25T00:42:38.337713Z",
          "shell.execute_reply": "2025-09-25T00:42:38.337366Z",
          "shell.execute_reply.started": "2025-09-25T00:42:38.333156Z"
        },
        "id": "740ba553-1caa-4407-951a-76bc19e0c238"
      },
      "outputs": [],
      "source": [
        "import cupy as cp\n",
        "def partial_trace (psi: cp.ndarray, keep: List[int], n_qubits: int) -> cp.ndarray:\n",
        "    psi = psi / cp.linalg.norm(psi)\n",
        "\n",
        "    traced_out = [i for i in range(n_qubits) if i not in keep]\n",
        "    dim_keep = 2 ** len(keep)\n",
        "    dim_traced = 2 ** len(traced_out)\n",
        "    psi = psi.reshape([2] * n_qubits)\n",
        "    perm = keep + traced_out\n",
        "    psi = psi.transpose(perm)\n",
        "    psi = psi.reshape(dim_keep, dim_traced)\n",
        "\n",
        "    rho_A = psi @ psi.conj().T\n",
        "    return rho_A"
      ]
    },
    {
      "cell_type": "code",
      "execution_count": 10,
      "id": "8d77d00c-012a-4436-95a4-1d7eab1b7bcb",
      "metadata": {
        "execution": {
          "iopub.execute_input": "2025-09-25T00:42:55.703651Z",
          "iopub.status.busy": "2025-09-25T00:42:55.703394Z",
          "iopub.status.idle": "2025-09-25T00:42:55.706189Z",
          "shell.execute_reply": "2025-09-25T00:42:55.705846Z",
          "shell.execute_reply.started": "2025-09-25T00:42:55.703635Z"
        },
        "id": "8d77d00c-012a-4436-95a4-1d7eab1b7bcb"
      },
      "outputs": [],
      "source": [
        "def entropy(rho):\n",
        "    eigvals = cp.linalg.eigvalsh(rho)\n",
        "    eigvals = eigvals[eigvals > 0]\n",
        "    return -cp.sum(eigvals * cp.log2(eigvals))"
      ]
    },
    {
      "cell_type": "code",
      "execution_count": 12,
      "id": "fe95fce7-627c-4159-b5d1-365005f1feae",
      "metadata": {
        "execution": {
          "iopub.execute_input": "2025-09-25T00:42:57.262803Z",
          "iopub.status.busy": "2025-09-25T00:42:57.262561Z",
          "iopub.status.idle": "2025-09-25T00:42:57.265118Z",
          "shell.execute_reply": "2025-09-25T00:42:57.264771Z",
          "shell.execute_reply.started": "2025-09-25T00:42:57.262785Z"
        },
        "id": "fe95fce7-627c-4159-b5d1-365005f1feae"
      },
      "outputs": [],
      "source": [
        "def purity(rho):\n",
        "    return cp.real(cp.trace(rho @ rho)).item()"
      ]
    },
    {
      "cell_type": "code",
      "execution_count": 13,
      "id": "154aae98-9226-48f1-a961-ccd170f529b5",
      "metadata": {
        "execution": {
          "iopub.execute_input": "2025-09-25T00:43:01.934499Z",
          "iopub.status.busy": "2025-09-25T00:43:01.934015Z",
          "iopub.status.idle": "2025-09-25T00:43:01.938795Z",
          "shell.execute_reply": "2025-09-25T00:43:01.938452Z",
          "shell.execute_reply.started": "2025-09-25T00:43:01.934477Z"
        },
        "id": "154aae98-9226-48f1-a961-ccd170f529b5"
      },
      "outputs": [],
      "source": [
        "def simulation (n_spins: int, cal: str, sub: int, initial_state, r=100, h_x_val=0.8090, h_y_val=0.9045, J_val=1.0):\n",
        "    n = n_spins\n",
        "    state = initial_state\n",
        "    out_list = []\n",
        "    time_list = []\n",
        "\n",
        "    dt = 0.1\n",
        "    subsystem = list(range(sub))\n",
        "\n",
        "    h_x = np.full(n_spins, h_x_val)\n",
        "    h_y = np.full(n_spins, h_y_val)\n",
        "    h_z = np.zeros(n_spins)\n",
        "    J = 1.0\n",
        "\n",
        "    A, B, H = create_hamiltonian_qimf(n_spins = n_spins)\n",
        "\n",
        "    c_a = extractCoefficients(A)\n",
        "    c_b = extractCoefficients(B)\n",
        "    words_a = extractWords(A)\n",
        "    words_b = extractWords(B)\n",
        "\n",
        "    start_time = time.time()\n",
        "    for step in range(1, r + 1):\n",
        "        state = cudaq.get_state(trotter_step_pf1, state, dt, c_a, c_b, words_a, words_b)\n",
        "        psi = cp.array(state)\n",
        "        rho_A = partial_trace (psi, subsystem, n_qubits=n_spins)\n",
        "\n",
        "        if cal == 'purity':\n",
        "            S = purity(rho_A)\n",
        "        elif cal == 'entropy':\n",
        "            S = entropy(rho_A)\n",
        "        else:\n",
        "            print('invalid input')\n",
        "            return 1\n",
        "\n",
        "        out_list.append(S)\n",
        "        time_list.append(dt * step)\n",
        "\n",
        "    total_time = time.time() - start_time\n",
        "    print(f\"Simulation for subsystem {len(subsystem)} done in {total_time:.2f} seconds\")\n",
        "    out_np = np.array([x.get() if hasattr(x, 'get') else x for x in out_list])\n",
        "\n",
        "    return out_np, subsystem"
      ]
    },
    {
      "cell_type": "code",
      "execution_count": 14,
      "id": "a68d459c-7f70-4412-b22d-97c00db23104",
      "metadata": {
        "execution": {
          "iopub.execute_input": "2025-09-25T00:43:01.939673Z",
          "iopub.status.busy": "2025-09-25T00:43:01.939409Z",
          "iopub.status.idle": "2025-09-25T00:43:01.946515Z",
          "shell.execute_reply": "2025-09-25T00:43:01.946180Z",
          "shell.execute_reply.started": "2025-09-25T00:43:01.939659Z"
        },
        "id": "a68d459c-7f70-4412-b22d-97c00db23104"
      },
      "outputs": [],
      "source": [
        "from cupyx.scipy.linalg import expm\n",
        "\n",
        "def tro_U (A, B, dt):\n",
        "    Am = cp.asarray(A.to_matrix(), dtype=cp.complex128)\n",
        "    Bm = cp.asarray(B.to_matrix(), dtype=cp.complex128)\n",
        "    U_a = expm(-1j * Am * dt)\n",
        "    U_b = expm(-1j * Bm * dt)\n",
        "    return U_a @ U_b\n",
        "\n",
        "def tro_next_state(U, state):\n",
        "    # return U_a @ (U_b @ state)\n",
        "    return U @ state"
      ]
    },
    {
      "cell_type": "code",
      "execution_count": 15,
      "id": "f3e5fe13-55ed-4ead-a1fa-bc42cd64d397",
      "metadata": {
        "execution": {
          "iopub.execute_input": "2025-09-25T00:43:01.947210Z",
          "iopub.status.busy": "2025-09-25T00:43:01.946890Z",
          "iopub.status.idle": "2025-09-25T00:43:01.949445Z",
          "shell.execute_reply": "2025-09-25T00:43:01.949117Z",
          "shell.execute_reply.started": "2025-09-25T00:43:01.947196Z"
        },
        "id": "f3e5fe13-55ed-4ead-a1fa-bc42cd64d397"
      },
      "outputs": [],
      "source": [
        "import cupy as cp\n",
        "from cupyx.scipy.linalg import expm\n",
        "\n",
        "def ideal_U (H, dt):\n",
        "    Hm = cp.asarray(H.to_matrix())\n",
        "    return expm(-1j * Hm * dt)\n",
        "\n",
        "def ideal_next_state(U, state):\n",
        "    # psi = cp.asarray(state, dtype=cp.complex128)\n",
        "    return U @ state"
      ]
    },
    {
      "cell_type": "code",
      "execution_count": 16,
      "id": "492b5a9b-7ef8-4b3d-bef6-5b04acc8547c",
      "metadata": {
        "execution": {
          "iopub.execute_input": "2025-09-25T00:43:01.950020Z",
          "iopub.status.busy": "2025-09-25T00:43:01.949813Z",
          "iopub.status.idle": "2025-09-25T00:43:01.953625Z",
          "shell.execute_reply": "2025-09-25T00:43:01.953282Z",
          "shell.execute_reply.started": "2025-09-25T00:43:01.950007Z"
        },
        "id": "492b5a9b-7ef8-4b3d-bef6-5b04acc8547c"
      },
      "outputs": [],
      "source": [
        "def trotter_error(psi_ideal, psi_trot):\n",
        "    return ((cp.linalg.norm(psi_ideal - psi_trot)))"
      ]
    },
    {
      "cell_type": "code",
      "execution_count": 17,
      "id": "f1ac4d6c-6a85-466a-9430-69d08aa51aae",
      "metadata": {
        "execution": {
          "iopub.execute_input": "2025-09-25T00:43:01.954675Z",
          "iopub.status.busy": "2025-09-25T00:43:01.954484Z",
          "iopub.status.idle": "2025-09-25T00:43:01.958170Z",
          "shell.execute_reply": "2025-09-25T00:43:01.957839Z",
          "shell.execute_reply.started": "2025-09-25T00:43:01.954662Z"
        },
        "id": "f1ac4d6c-6a85-466a-9430-69d08aa51aae"
      },
      "outputs": [],
      "source": [
        "def trotter_error_dm (dm_ideal, dm_trotter):\n",
        "    return (cp.linalg.norm(dm_ideal - dm_trotter))"
      ]
    },
    {
      "cell_type": "code",
      "execution_count": 18,
      "id": "7421e3e9-00fb-412a-9b01-4c9b60103e55",
      "metadata": {
        "execution": {
          "iopub.execute_input": "2025-09-25T01:04:30.269815Z",
          "iopub.status.busy": "2025-09-25T01:04:30.269493Z",
          "iopub.status.idle": "2025-09-25T01:04:30.277198Z",
          "shell.execute_reply": "2025-09-25T01:04:30.276787Z",
          "shell.execute_reply.started": "2025-09-25T01:04:30.269800Z"
        },
        "id": "7421e3e9-00fb-412a-9b01-4c9b60103e55"
      },
      "outputs": [],
      "source": [
        "def ideal_simulation (n_spins: int, cal: str, sub: int, initial_state: cudaq.State, ham: str, pf: int, r: int, h_x_val: float, h_y_val: float, J_val: float):\n",
        "    n = n_spins\n",
        "    ideal_state = initial_state\n",
        "    i_state = initial_state\n",
        "    t_state = initial_state\n",
        "\n",
        "    out_list_ideal = []\n",
        "    out_list_trotter = []\n",
        "\n",
        "    time_list = []\n",
        "    error_list = []\n",
        "\n",
        "    dt = 0.1\n",
        "    dt2 = 0.001\n",
        "    r2 = 10000\n",
        "    m = 100\n",
        "\n",
        "    subsystem = list(range(sub))\n",
        "\n",
        "    h_x = np.full(n_spins, h_x_val)\n",
        "    h_y = np.full(n_spins, h_y_val)\n",
        "    h_z = np.zeros(n_spins)\n",
        "    J = 1.0\n",
        "\n",
        "    if ham == 'qimf':\n",
        "        A, B, H = create_hamiltonian_qimf(n_spins, J=J_val, h_x=h_x_val, h_y=h_y_val)\n",
        "    elif ham == 'powerlaw':\n",
        "        A, B, H = create_powerlaw_hamiltonian(n_spins, J=J_val, h_x=h_x_val, h_y=h_y_val)\n",
        "    else:\n",
        "        print(\"invalid input\")\n",
        "\n",
        "    start_time = time.time()\n",
        "\n",
        "    c_a = extractCoefficients(A)\n",
        "    c_b = extractCoefficients(B)\n",
        "    words_a = extractWords(A)\n",
        "    words_b = extractWords(B)\n",
        "    # U = ideal_U(H, dt)\n",
        "\n",
        "    # psi_t = cp.asarray(t_state, dtype=cp.complex128)\n",
        "\n",
        "    # print(cp.linalg.norm(psi_t - ideal_state))\n",
        "    i_state = ideal_state\n",
        "\n",
        "    for step in range(1, r + 1):\n",
        "        # psi_t = cp.asarray(t_state, dtype=cp.complex128)\n",
        "\n",
        "        for _ in range(m + 1):\n",
        "            i_state = cudaq.get_state(trotter_step_pf2, i_state, dt2, c_a, c_b, words_a, words_b)\n",
        "\n",
        "        # if pf == 1:\n",
        "        #     t_state = cudaq.get_state(trotter_step_pf1, t_state, dt, c_a, c_b, words_a, words_b)\n",
        "        # elif pf == 2:\n",
        "        #     t_state2 = cudaq.get_state(trotter_step_pf2, t_state, dt, c_a, c_b, words_a, words_b)\n",
        "        # else:\n",
        "        #     print(\"Select 'pf1' or pf2'\")\n",
        "\n",
        "        ideal_state_new = cudaq.get_state(trotter_step_pf2, ideal_state, dt, c_a, c_b, words_a, words_b)\n",
        "        # ideal_state_new = ideal_state\n",
        "\n",
        "        t_state = cudaq.get_state(trotter_step_pf1, ideal_state, dt, c_a, c_b, words_a, words_b)\n",
        "\n",
        "        ideal_state = i_state\n",
        "\n",
        "        psi_ideal = cp.asarray(ideal_state, dtype=cp.complex128)\n",
        "        psi_t = cp.asarray(t_state, dtype=cp.complex128)\n",
        "        tro_error = trotter_error (psi_ideal, psi_t)\n",
        "        print(step, tro_error)\n",
        "\n",
        "        rho_A_ideal = partial_trace(psi_ideal, subsystem, n_qubits=n_spins)\n",
        "        rho_A_t = partial_trace(psi_t, subsystem, n_qubits=n_spins)\n",
        "\n",
        "        if cal == 'purity':\n",
        "            S = purity(rho_A_ideal)\n",
        "\n",
        "        elif cal == 'entropy':\n",
        "            S_ideal = entropy(rho_A_ideal)\n",
        "            S_t = entropy(rho_A_t)\n",
        "\n",
        "        else:\n",
        "            print('invalid input')\n",
        "            return 1\n",
        "\n",
        "        out_list_ideal.append(S_ideal)\n",
        "        out_list_trotter.append(S_t)\n",
        "        time_list.append(dt * step)\n",
        "        error_list.append(tro_error)\n",
        "\n",
        "    total_time = time.time() - start_time\n",
        "    print(f\"Simulation for subsystem {len(subsystem)} done in {total_time:.2f} seconds\")\n",
        "    out_np_ideal= np.array([x.get() if hasattr(x, 'get') else x for x in out_list_ideal])\n",
        "    out_np_trotter = np.array([x.get() if hasattr(x, 'get') else x for x in out_list_trotter])\n",
        "    error_np = np.array([x.get() if hasattr(x, 'get') else x for x in error_list])\n",
        "\n",
        "    return out_np_ideal, out_np_trotter, subsystem, error_np"
      ]
    },
    {
      "cell_type": "code",
      "execution_count": 19,
      "id": "6a5e599a-4aa0-4845-83f7-0e5557224e65",
      "metadata": {
        "execution": {
          "iopub.execute_input": "2025-09-25T00:43:01.965684Z",
          "iopub.status.busy": "2025-09-25T00:43:01.965475Z",
          "iopub.status.idle": "2025-09-25T00:43:01.970319Z",
          "shell.execute_reply": "2025-09-25T00:43:01.969987Z",
          "shell.execute_reply.started": "2025-09-25T00:43:01.965671Z"
        },
        "id": "6a5e599a-4aa0-4845-83f7-0e5557224e65"
      },
      "outputs": [],
      "source": [
        "def plot (n, initial_state, subsystem, t_list, r, typical: bool = True):\n",
        "    if (typical):\n",
        "        fig, axes = plt.subplots(nrows=1, ncols=1, sharex=True)\n",
        "        for i in range(1, subsystem + 1):\n",
        "            n_12_p, sub_12_p = simulation (n, 'entropy', i, initial_state, r=r, h_x_val=0.8090, h_y_val=0.9045, J_val=1.0)\n",
        "            axes.plot(t_list, n_12_p, label=f'typical {i}-RDM entropy')\n",
        "        axes.legend()\n",
        "        axes.set_xlabel('Time')\n",
        "        axes.set_ylabel('Entropy')\n",
        "    if (typical == False):\n",
        "        fig, axes = plt.subplots(nrows=1, ncols=2, figsize=(18, 7), sharex=True)\n",
        "        for i in range(1, subsystem + 1):\n",
        "            n_12_p, sub_12_p = simulation (n, 'entropy', i, initial_state, r=r, h_x_val=0.8090, h_y_val=0.9045, J_val=1.0)\n",
        "            axes[0].plot(t_list, n_12_p, label=f'typical {i}-RDM entropy')\n",
        "        for i in range(1, subsystem + 1):\n",
        "            n_12_p, sub_12_p = simulation (n, 'entropy', i, initial_state, r=r, h_x_val=0.0, h_y_val=0.9045, J_val=1.0)\n",
        "            axes[1].plot(t_list, n_12_p, label=f'atypical {i}-RDM entropy')\n",
        "        axes[1].legend()\n",
        "        axes[1].set_xlabel('Time')\n",
        "        axes[1].set_ylabel('Entropy')\n",
        "\n",
        "        axes[0].legend()\n",
        "        axes[0].set_xlabel('Time')\n",
        "        axes[0].set_ylabel('Entropy')\n"
      ]
    },
    {
      "cell_type": "code",
      "execution_count": 20,
      "id": "6b30876a-01b0-47c2-9cb9-28bc5a039b76",
      "metadata": {
        "execution": {
          "iopub.execute_input": "2025-09-25T00:56:41.685841Z",
          "iopub.status.busy": "2025-09-25T00:56:41.685501Z",
          "iopub.status.idle": "2025-09-25T00:56:41.691758Z",
          "shell.execute_reply": "2025-09-25T00:56:41.691360Z",
          "shell.execute_reply.started": "2025-09-25T00:56:41.685822Z"
        },
        "id": "6b30876a-01b0-47c2-9cb9-28bc5a039b76"
      },
      "outputs": [],
      "source": [
        "def ideal_plot (n, initial_state, subsystem, t_list, r, y_ticks, ham, h_x_val, h_y_val, J_val, pf, typical: bool = True):\n",
        "    if (typical):\n",
        "        fig, axes = plt.subplots(nrows=1, ncols=1)\n",
        "        ax2 = axes.twinx()\n",
        "        for i in range(1, subsystem + 1):\n",
        "            n_12_p, n_trotter, sub_12_p, error = ideal_simulation (n, 'entropy', i, initial_state, ham, pf, r, h_x_val, h_y_val, J_val)\n",
        "            ax2.plot(t_list, n_12_p, label=f'typical {i}-RDM entropy')\n",
        "            ax2.plot(t_list, n_trotter, label=f'typical {i}-RDM entropy trotter')\n",
        "            axes.plot(t_list, error, label='trotter error', linestyle=\":\")\n",
        "\n",
        "        ax2.legend()\n",
        "        ax2.set_xlabel('Time')\n",
        "        ax2.set_ylabel('Entropy')\n",
        "        axes.set_ylabel(\"trotter error\")\n",
        "        axes.set_yticks(y_ticks)\n",
        "        axes.legend()\n",
        "\n",
        "    if (typical == False):\n",
        "        fig, axes = plt.subplots(nrows=1, ncols=2, figsize=(18, 7), sharex=True)\n",
        "        for i in range(1, subsystem + 1):\n",
        "            n_12_p, sub_12_p = ideal_simulation (n, 'entropy', i, initial_state, r=r, h_x_val=0.8090, h_y_val=0.9045, J_val=1.0)\n",
        "            axes[0].plot(t_list, n_12_p, label=f'typical {i}-RDM entropy')\n",
        "        for i in range(1, subsystem + 1):\n",
        "            n_12_p, sub_12_p = ideal_simulation (n, 'entropy', i, initial_state, r=r, h_x_val=0.0, h_y_val=0.9045, J_val=1.0)\n",
        "            axes[1].plot(t_list, n_12_p, label=f'atypical {i}-RDM entropy')\n",
        "        axes[1].legend()\n",
        "        axes[1].set_xlabel('Time')\n",
        "        axes[1].set_ylabel('Entropy')\n",
        "\n",
        "        axes[0].legend()\n",
        "        axes[0].set_xlabel('Time')\n",
        "        axes[0].set_ylabel('Entropy')\n"
      ]
    },
    {
      "cell_type": "code",
      "execution_count": 21,
      "id": "2d5fccd8-8244-428c-ad8b-b0a5bf00c664",
      "metadata": {
        "execution": {
          "iopub.execute_input": "2025-09-25T01:04:34.465015Z",
          "iopub.status.busy": "2025-09-25T01:04:34.464701Z",
          "iopub.status.idle": "2025-09-25T01:05:17.887432Z",
          "shell.execute_reply": "2025-09-25T01:05:17.886669Z",
          "shell.execute_reply.started": "2025-09-25T01:04:34.464996Z"
        },
        "colab": {
          "base_uri": "https://localhost:8080/",
          "height": 1000
        },
        "id": "2d5fccd8-8244-428c-ad8b-b0a5bf00c664",
        "outputId": "714c3677-9266-4d8b-db21-63ba66873372"
      },
      "outputs": [
        {
          "output_type": "stream",
          "name": "stderr",
          "text": [
            "/tmp/ipython-input-722446967.py:4: DeprecationWarning: use `evaluate_coefficient` instead\n",
            "  result.append(term.get_coefficient())\n"
          ]
        },
        {
          "output_type": "stream",
          "name": "stdout",
          "text": [
            "1 0.09073123714498436\n",
            "2 0.11084258318417653\n",
            "3 0.1069656452934733\n",
            "4 0.08677863527496316\n",
            "5 0.10550859699588204\n",
            "6 0.14114142297532165\n",
            "7 0.14619411979892982\n",
            "8 0.11600303301412244\n",
            "9 0.07745229837077493\n",
            "10 0.06954018086399785\n",
            "11 0.08089632742400585\n",
            "12 0.08120158879125866\n",
            "13 0.0697239293159477\n",
            "14 0.06050115743570775\n",
            "15 0.06449900619408569\n",
            "16 0.07318632180879325\n",
            "17 0.07619349582689204\n",
            "18 0.07483956206225958\n",
            "19 0.07574618913099732\n",
            "20 0.07876073450398713\n",
            "21 0.07960564679321915\n",
            "22 0.07964922899123208\n",
            "23 0.08193213088846824\n",
            "24 0.083982188317448\n",
            "25 0.08322069986646892\n",
            "26 0.08225758179217316\n",
            "27 0.08366750331980705\n",
            "28 0.0851488744192896\n",
            "29 0.0838664328762656\n",
            "30 0.08030825869422552\n",
            "31 0.07658604559666672\n",
            "32 0.07416282151193775\n",
            "33 0.07378204644998802\n",
            "34 0.0753345111257869\n",
            "35 0.0771999124057891\n",
            "36 0.07741218645073697\n",
            "37 0.07583436915350678\n",
            "38 0.07441176185660268\n",
            "39 0.07473221883268216\n",
            "40 0.0760406525136091\n",
            "41 0.07671938862800959\n",
            "42 0.07645680266360068\n",
            "43 0.07603141792724183\n",
            "44 0.07588080061832703\n",
            "45 0.07585895370756403\n",
            "46 0.07602115267288075\n",
            "47 0.07650233833441067\n",
            "48 0.07677496824978346\n",
            "49 0.07612506807821087\n",
            "50 0.07478385693308665\n",
            "51 0.07377283048524987\n",
            "52 0.0736905109153998\n",
            "53 0.07424088960596281\n",
            "54 0.07478557606640873\n",
            "55 0.0749090165327189\n",
            "56 0.07474007277276513\n",
            "57 0.07480175063321998\n",
            "58 0.07517191294318248\n",
            "59 0.07519382373800292\n",
            "60 0.07452049271340365\n",
            "61 0.0737953429664396\n",
            "62 0.0737449309549938\n",
            "63 0.07419427467669285\n",
            "64 0.07449681119224982\n",
            "65 0.07431807809250769\n",
            "66 0.07372361088370107\n",
            "67 0.0730993118552695\n",
            "68 0.07300075098825597\n",
            "69 0.0734617708709474\n",
            "70 0.07372359143986838\n",
            "71 0.07333464369837873\n",
            "72 0.07300652129670751\n",
            "73 0.07355967842272092\n",
            "74 0.07451196744527144\n",
            "75 0.0747918240038634\n",
            "76 0.07438609153537662\n",
            "77 0.07423147597240826\n",
            "78 0.0746441657651855\n",
            "79 0.0749526186955199\n",
            "80 0.07476058642206618\n",
            "81 0.0744023117012235\n",
            "82 0.07405649152492662\n",
            "83 0.07349613510180719\n",
            "84 0.07284754872556505\n",
            "85 0.07257980589767184\n",
            "86 0.07268351563092047\n",
            "87 0.07276889686001732\n",
            "88 0.07282801331154212\n",
            "89 0.0731482674542292\n",
            "90 0.07374595225045721\n",
            "91 0.07439413523987809\n",
            "92 0.07490406079396153\n",
            "93 0.07509707739951442\n",
            "94 0.07484248462643417\n",
            "95 0.07433011413636047\n",
            "96 0.07397117765268392\n",
            "97 0.07384318133706748\n",
            "98 0.07360330008070198\n",
            "99 0.0730826199368596\n",
            "100 0.07256557512793257\n",
            "Simulation for subsystem 1 done in 532.09 seconds\n"
          ]
        },
        {
          "output_type": "display_data",
          "data": {
            "text/plain": [
              "<Figure size 640x480 with 2 Axes>"
            ],
            "image/png": "[encoded data removed]"
          },
          "metadata": {}
        }
      ],
      "source": [
        "n = 25\n",
        "r = 100\n",
        "initial_state = cudaq.get_state(get_initial_state, n)\n",
        "ham = 'qimf'\n",
        "subsystem = 1\n",
        "t_list = np.linspace(0, 10, 100)\n",
        "# y_ticks = [0.003, 0.004, 0.005, 0.006, 0.007, 0.008, 0.009, 0.01, 0.011, 0.012, 0.013]\n",
        "y_ticks = [0.04, 0.05, 0.06, 0.07, 0.08, 0.09, 0.10, 0.11, 0.12, 0.13, 0.14]\n",
        "\n",
        "h_x_val, h_y_val, J_val = 0.8090, 0.9045, 1\n",
        "pf = 2\n",
        "\n",
        "ideal_plot (n, initial_state, subsystem, t_list, r, y_ticks, ham, h_x_val, h_y_val, J_val, pf)"
      ]
    },
    {
      "cell_type": "code",
      "execution_count": null,
      "id": "76b93d1d-4bb4-4379-94a1-c86ce6f12a71",
      "metadata": {
        "execution": {
          "iopub.execute_input": "2025-09-25T00:43:04.172364Z",
          "iopub.status.busy": "2025-09-25T00:43:04.172170Z",
          "iopub.status.idle": "2025-09-25T00:43:04.175940Z",
          "shell.execute_reply": "2025-09-25T00:43:04.175561Z",
          "shell.execute_reply.started": "2025-09-25T00:43:04.172349Z"
        },
        "id": "76b93d1d-4bb4-4379-94a1-c86ce6f12a71"
      },
      "outputs": [],
      "source": [
        "# H_pl = Power_Law(n=5, alpha=4, Jx=1, Jy=1, Jz=1, hx=1, hy=1, hz=1, pbc=False, verbose=True)\n",
        "def create_powerlaw_hamiltonian(n_spins: int, Jx: float = 1.0, Jy: float = 1.0,\n",
        "                                Jz: float = 1.0, h_x: float = 1.0, h_y: float = 1.0, h_z: float = 1.0, alpha: float = 4.0):\n",
        "    A = 0\n",
        "    B = 0\n",
        "    for i in range(n_spins):\n",
        "        for j in range(i + 1, n_spins):\n",
        "            r = j - i\n",
        "            A += (Jx / (r ** alpha)) * spin.x(i) * spin.x(j)\n",
        "            A += (Jy / (r ** alpha)) * spin.y(i) * spin.y(j)\n",
        "            A += (Jz / (r ** alpha)) * spin.z(i) * spin.z(j)\n",
        "\n",
        "    for i in range(n_spins):\n",
        "        B += h_x * spin.x(i)\n",
        "        B += h_y * spin.y(i)\n",
        "        B += h_z * spin.z(i)\n",
        "\n",
        "    return A, B, A + B\n"
      ]
    },
    {
      "cell_type": "code",
      "execution_count": null,
      "id": "dd6f8466",
      "metadata": {
        "execution": {
          "iopub.execute_input": "2025-09-25T00:43:23.372851Z",
          "iopub.status.busy": "2025-09-25T00:43:23.372568Z",
          "iopub.status.idle": "2025-09-25T00:43:23.489947Z",
          "shell.execute_reply": "2025-09-25T00:43:23.489416Z",
          "shell.execute_reply.started": "2025-09-25T00:43:23.372833Z"
        },
        "id": "dd6f8466"
      },
      "outputs": [],
      "source": [
        "n = 20\n",
        "initial_state = cudaq.get_state(get_initial_state, n)\n",
        "subsystem = 6\n",
        "r = 200\n",
        "t_list = np.linspace(0, 20, 200)\n",
        "\n",
        "plot(n, initial_state, subsystem, t_list, r)"
      ]
    }
  ],
  "metadata": {
    "kernelspec": {
      "display_name": "Python 3",
      "name": "python3"
    },
    "language_info": {
      "codemirror_mode": {
        "name": "ipython",
        "version": 3
      },
      "file_extension": ".py",
      "mimetype": "text/x-python",
      "name": "python",
      "nbconvert_exporter": "python",
      "pygments_lexer": "ipython3",
      "version": "3.12.9"
    },
    "colab": {
      "provenance": [],
      "machine_shape": "hm",
      "gpuType": "A100"
    },
    "accelerator": "GPU"
  },
  "nbformat": 4,
  "nbformat_minor": 5
}
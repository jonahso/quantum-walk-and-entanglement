{
  "cells": [
    {
      "cell_type": "code",
      "execution_count": null,
      "id": "a530677b-6523-4655-b28c-7f8dc04b5636",
      "metadata": {
        "execution": {
          "iopub.execute_input": "2025-09-22T21:52:37.571933Z",
          "iopub.status.busy": "2025-09-22T21:52:37.571697Z",
          "iopub.status.idle": "2025-09-22T21:52:41.641816Z",
          "shell.execute_reply": "2025-09-22T21:52:41.641390Z",
          "shell.execute_reply.started": "2025-09-22T21:52:37.571915Z"
        },
        "id": "a530677b-6523-4655-b28c-7f8dc04b5636"
      },
      "outputs": [],
      "source": [
        "pip install qiskit"
      ]
    },
    {
      "cell_type": "code",
      "execution_count": null,
      "id": "6aeeb62a-47ff-4771-bc95-f4613645f487",
      "metadata": {
        "execution": {
          "iopub.execute_input": "2025-09-22T21:52:43.671482Z",
          "iopub.status.busy": "2025-09-22T21:52:43.671201Z",
          "iopub.status.idle": "2025-09-22T21:53:33.709902Z",
          "shell.execute_reply": "2025-09-22T21:53:33.709437Z",
          "shell.execute_reply.started": "2025-09-22T21:52:43.671458Z"
        },
        "id": "6aeeb62a-47ff-4771-bc95-f4613645f487"
      },
      "outputs": [],
      "source": [
        "pip install qiskit-aer-gpu-cu11"
      ]
    },
    {
      "cell_type": "code",
      "execution_count": 1,
      "id": "620580b3-429d-4d4b-8570-d1b38950b947",
      "metadata": {
        "execution": {
          "iopub.execute_input": "2025-09-22T21:53:56.211963Z",
          "iopub.status.busy": "2025-09-22T21:53:56.211652Z",
          "iopub.status.idle": "2025-09-22T21:53:56.761643Z",
          "shell.execute_reply": "2025-09-22T21:53:56.761128Z",
          "shell.execute_reply.started": "2025-09-22T21:53:56.211939Z"
        },
        "id": "620580b3-429d-4d4b-8570-d1b38950b947"
      },
      "outputs": [],
      "source": [
        "from qiskit import QuantumCircuit, transpile\n",
        "from qiskit_aer import AerSimulator\n",
        "from qiskit.quantum_info import Statevector\n",
        "from qiskit.quantum_info import DensityMatrix, Statevector, SparsePauliOp, Operator, partial_trace, entropy\n",
        "\n",
        "from spin import *\n",
        "from trotter import *\n",
        "import time"
      ]
    },
    {
      "cell_type": "code",
      "execution_count": 2,
      "id": "2df0e096-e1bf-45cd-bc91-265bab829da5",
      "metadata": {
        "execution": {
          "iopub.execute_input": "2025-09-22T21:54:01.362085Z",
          "iopub.status.busy": "2025-09-22T21:54:01.361697Z",
          "iopub.status.idle": "2025-09-22T21:54:01.364867Z",
          "shell.execute_reply": "2025-09-22T21:54:01.364480Z",
          "shell.execute_reply.started": "2025-09-22T21:54:01.362064Z"
        },
        "colab": {
          "base_uri": "https://localhost:8080/"
        },
        "id": "2df0e096-e1bf-45cd-bc91-265bab829da5",
        "outputId": "2b437f6e-2489-4b95-e787-ef41651348a2"
      },
      "outputs": [
        {
          "output_type": "stream",
          "name": "stdout",
          "text": [
            "('CPU', 'GPU')\n",
            "('automatic', 'statevector', 'density_matrix', 'stabilizer', 'matrix_product_state', 'extended_stabilizer', 'unitary', 'superop', 'tensor_network')\n"
          ]
        }
      ],
      "source": [
        "simulator_gpu = AerSimulator(method='statevector', device='CPU')\n",
        "print(simulator_gpu.available_devices())\n",
        "print(simulator_gpu.available_methods())"
      ]
    },
    {
      "cell_type": "code",
      "source": [
        "pip install cupy-cuda12x"
      ],
      "metadata": {
        "colab": {
          "base_uri": "https://localhost:8080/",
          "height": 235
        },
        "id": "WnrWQ3qGCPLO",
        "outputId": "78c90a25-2342-4394-bc54-00b969aa7a87"
      },
      "id": "WnrWQ3qGCPLO",
      "execution_count": null,
      "outputs": [
        {
          "output_type": "stream",
          "name": "stdout",
          "text": [
            "Collecting cupy-cuda12x\n",
            "  Using cached cupy_cuda12x-13.6.0-cp312-cp312-manylinux2014_x86_64.whl.metadata (2.4 kB)\n",
            "Requirement already satisfied: numpy<2.6,>=1.22 in /usr/local/lib/python3.12/dist-packages (from cupy-cuda12x) (2.0.2)\n",
            "Requirement already satisfied: fastrlock>=0.5 in /usr/local/lib/python3.12/dist-packages (from cupy-cuda12x) (0.8.3)\n",
            "Using cached cupy_cuda12x-13.6.0-cp312-cp312-manylinux2014_x86_64.whl (112.9 MB)\n",
            "Installing collected packages: cupy-cuda12x\n",
            "Successfully installed cupy-cuda12x-13.6.0\n"
          ]
        },
        {
          "output_type": "display_data",
          "data": {
            "application/vnd.colab-display-data+json": {
              "pip_warning": {
                "packages": [
                  "cupy"
                ]
              },
              "id": "66b2ab91b38f4871b06b0c22a3fcd02d"
            }
          },
          "metadata": {}
        }
      ]
    },
    {
      "cell_type": "code",
      "source": [
        "import cupy as cp\n",
        "\n",
        "print(cp.__version__)"
      ],
      "metadata": {
        "colab": {
          "base_uri": "https://localhost:8080/"
        },
        "id": "TnyJ9PdSDIR4",
        "outputId": "adbb5d11-e41f-409c-b8f6-c066a8c7838c"
      },
      "id": "TnyJ9PdSDIR4",
      "execution_count": 8,
      "outputs": [
        {
          "output_type": "stream",
          "name": "stdout",
          "text": [
            "13.3.0\n"
          ]
        }
      ]
    },
    {
      "cell_type": "code",
      "source": [
        "from qiskit.circuit.library import PauliEvolutionGate\n",
        "from qiskit.synthesis import LieTrotter\n",
        "import numpy as np\n",
        "\n",
        "n = 8\n",
        "QIMF = Nearest_Neighbour_1d(n, hx=0.8090, hy=0.9045, Jx=1, pbc=False)\n",
        "\n",
        "H = QIMF.ham_xyz\n",
        "print(H)\n",
        "\n",
        "init = Statevector.from_label(\"10101010\")\n",
        "t, dt = 10.0, 0.1\n",
        "r = int(round(t / dt))"
      ],
      "metadata": {
        "colab": {
          "base_uri": "https://localhost:8080/"
        },
        "id": "EQ9UByUoRRqU",
        "outputId": "1bdd27ea-7665-4284-8a16-4c5001e44ba6"
      },
      "id": "EQ9UByUoRRqU",
      "execution_count": 4,
      "outputs": [
        {
          "output_type": "stream",
          "name": "stdout",
          "text": [
            "[SparsePauliOp(['IIIIIIXX', 'IIIIIXXI', 'IIIIXXII', 'IIIXXIII', 'IIXXIIII', 'IXXIIIII', 'XXIIIIII', 'IIIIIIIX', 'IIIIIIXI', 'IIIIIXII', 'IIIIXIII', 'IIIXIIII', 'IIXIIIII', 'IXIIIIII', 'XIIIIIII'],\n",
            "              coeffs=[1.   +0.j, 1.   +0.j, 1.   +0.j, 1.   +0.j, 1.   +0.j, 1.   +0.j,\n",
            " 1.   +0.j, 0.809+0.j, 0.809+0.j, 0.809+0.j, 0.809+0.j, 0.809+0.j,\n",
            " 0.809+0.j, 0.809+0.j, 0.809+0.j]), SparsePauliOp(['IIIIIIIY', 'IIIIIIYI', 'IIIIIYII', 'IIIIYIII', 'IIIYIIII', 'IIYIIIII', 'IYIIIIII', 'YIIIIIII'],\n",
            "              coeffs=[0.9045+0.j, 0.9045+0.j, 0.9045+0.j, 0.9045+0.j, 0.9045+0.j, 0.9045+0.j,\n",
            " 0.9045+0.j, 0.9045+0.j])]\n"
          ]
        }
      ]
    },
    {
      "cell_type": "code",
      "source": [
        "trotter = PauliEvolutionGate(H, time=dt, synthesis=LieTrotter())\n",
        "qc = QuantumCircuit(n)\n",
        "start_time = time.time()\n",
        "for s in range(1, r+1):\n",
        "    qc.append(trotter, range(n))\n",
        "    qc.save_statevector(label=f\"sv_{s}\")\n",
        "\n",
        "res = simulator_gpu.run(transpile(qc, simulator_gpu), initial_statevector=init.data).result()\n",
        "data = res.data(0)\n",
        "states = [data[f\"sv_{s}\"] for s in range(1, r+1)]\n",
        "\n",
        "entropy_list = []\n",
        "for s in range(1, r):\n",
        "    print(s)\n",
        "    rdm1 = partial_trace(DensityMatrix(states[s-1]), [0])\n",
        "    rdm2 = partial_trace(DensityMatrix(states[s-1]), [0, 1])\n",
        "    rdm3 = partial_trace(DensityMatrix(states[s-1]), [0, 1, 2])\n",
        "    rdm4 = partial_trace(DensityMatrix(states[s-1]), [0, 1, 2, 3])\n",
        "    temp_entropy = [entropy(rdm1), entropy(rdm2), entropy(rdm3), entropy(rdm4)]\n",
        "    print(temp_entropy)\n",
        "    entropy_list.append(temp_entropy)\n",
        "total_time = time.time() - start_time\n",
        "print(\"total time\", total_time)"
      ],
      "metadata": {
        "colab": {
          "base_uri": "https://localhost:8080/"
        },
        "id": "ASO9yUT7Xw3e",
        "outputId": "e2fce335-ae19-4df8-bdb4-6c108812cea6"
      },
      "id": "ASO9yUT7Xw3e",
      "execution_count": 5,
      "outputs": [
        {
          "output_type": "stream",
          "name": "stdout",
          "text": [
            "1\n",
            "[np.float64(0.0805723709370568), np.float64(0.08057237093705648), np.float64(0.08057237093705506), np.float64(0.08057237093705535)]\n",
            "2\n",
            "[np.float64(0.23377670064086267), np.float64(0.23383935710838008), np.float64(0.2338393571083766), np.float64(0.23383935710837517)]\n",
            "3\n",
            "[np.float64(0.39370267866919206), np.float64(0.39462667264379364), np.float64(0.39462651192692305), np.float64(0.3946265119269246)]\n",
            "4\n",
            "[np.float64(0.5188099182604173), np.float64(0.5239537838697601), np.float64(0.523948544305402), np.float64(0.5239485505633965)]\n",
            "5\n",
            "[np.float64(0.5864854127708491), np.float64(0.605067324181346), np.float64(0.6050073337486427), np.float64(0.6050075265115832)]\n",
            "6\n",
            "[np.float64(0.5946508224848867), np.float64(0.6460497092071364), np.float64(0.6456737859767028), np.float64(0.6456759866214454)]\n",
            "7\n",
            "[np.float64(0.5632816348454056), np.float64(0.6773149467518347), np.float64(0.6758744764787538), np.float64(0.6758871182549597)]\n",
            "8\n",
            "[np.float64(0.5310762236359285), np.float64(0.734385923344632), np.float64(0.7308578813576669), np.float64(0.730898384734421)]\n",
            "9\n",
            "[np.float64(0.5396982059914516), np.float64(0.8311900235504044), np.float64(0.8257509195850182), np.float64(0.8258215657486652)]\n",
            "10\n",
            "[np.float64(0.6067680797438849), np.float64(0.9507268458413971), np.float64(0.9468301500732269), np.float64(0.9468614082980722)]\n",
            "11\n",
            "[np.float64(0.7136397152084704), np.float64(1.061981745303041), np.float64(1.0673323707761346), np.float64(1.0671503614774867)]\n",
            "12\n",
            "[np.float64(0.8234246544636435), np.float64(1.1413887641442668), np.float64(1.166998494037668), np.float64(1.1663962070034541)]\n",
            "13\n",
            "[np.float64(0.9049595111814492), np.float64(1.1831899912781445), np.float64(1.2407944387558187), np.float64(1.2397406624930822)]\n",
            "14\n",
            "[np.float64(0.9442028012590495), np.float64(1.1996619862162408), np.float64(1.297734337166269), np.float64(1.2967368020160832)]\n",
            "15\n",
            "[np.float64(0.9445597170574624), np.float64(1.2155389177151479), np.float64(1.3542244770237701), np.float64(1.3548010664510888)]\n",
            "16\n",
            "[np.float64(0.9212516029262505), np.float64(1.2566624182367796), np.float64(1.4249883580407763), np.float64(1.4298572309165232)]\n",
            "17\n",
            "[np.float64(0.8932343479591495), np.float64(1.3345056372648616), np.float64(1.5153297662003906), np.float64(1.528012719397161)]\n",
            "18\n",
            "[np.float64(0.8754194455855028), np.float64(1.439653614078438), np.float64(1.6197206909328428), np.float64(1.643770333107516)]\n",
            "19\n",
            "[np.float64(0.8739275899075744), np.float64(1.5513333958848563), np.float64(1.7275809042134878), np.float64(1.7653111200736393)]\n",
            "20\n",
            "[np.float64(0.8861997772537729), np.float64(1.6499092713294), np.float64(1.8303395843439003), np.float64(1.8812288867406206)]\n",
            "21\n",
            "[np.float64(0.9051144038287499), np.float64(1.7233032633562044), np.float64(1.9245736741960955), np.float64(1.9844819513771854)]\n",
            "22\n",
            "[np.float64(0.9238899731631394), np.float64(1.7678703738963057), np.float64(2.010910848921479), np.float64(2.0732624243372966)]\n",
            "23\n",
            "[np.float64(0.9388657914702397), np.float64(1.7865583805689995), np.float64(2.091464879205468), np.float64(2.1500446351406506)]\n",
            "24\n",
            "[np.float64(0.949409272215548), np.float64(1.7866270711820766), np.float64(2.1685255110347232), np.float64(2.2199603162727217)]\n",
            "25\n",
            "[np.float64(0.9561482343557812), np.float64(1.7776734827531233), np.float64(2.2439863862392753), np.float64(2.2889402219912984)]\n",
            "26\n",
            "[np.float64(0.9594308770603633), np.float64(1.769551229509556), np.float64(2.3179815616349515), np.float64(2.361567423499981)]\n",
            "27\n",
            "[np.float64(0.9591719400191545), np.float64(1.7699483303945283), np.float64(2.387758167070396), np.float64(2.4393369192468306)]\n",
            "28\n",
            "[np.float64(0.9557450868561741), np.float64(1.782325534731205), np.float64(2.4486027964088555), np.float64(2.520638013304871)]\n",
            "29\n",
            "[np.float64(0.950685128958432), np.float64(1.8052791802072699), np.float64(2.496551198474059), np.float64(2.6024050283429436)]\n",
            "30\n",
            "[np.float64(0.9463594941481341), np.float64(1.8336667599166843), np.float64(2.5308884102714733), np.float64(2.6819222031634067)]\n",
            "31\n",
            "[np.float64(0.9448452444305848), np.float64(1.8608499480589822), np.float64(2.5548447269113144), np.float64(2.757537417315783)]\n",
            "32\n",
            "[np.float64(0.9469376991762497), np.float64(1.8811062039889825), np.float64(2.574140434997535), np.float64(2.828085914674788)]\n",
            "33\n",
            "[np.float64(0.9520116763120376), np.float64(1.8914465231734565), np.float64(2.5941065719217327), np.float64(2.8919160353568296)]\n",
            "34\n",
            "[np.float64(0.9586955928072776), np.float64(1.89229565192295), np.float64(2.617144866713912), np.float64(2.9466477950819208)]\n",
            "35\n",
            "[np.float64(0.9657418189461786), np.float64(1.8868005913534471), np.float64(2.642229409842356), np.float64(2.9900054264009897)]\n",
            "36\n",
            "[np.float64(0.9724921644603299), np.float64(1.8790798442381995), np.float64(2.6663059490421896), np.float64(3.021522516531953)]\n",
            "37\n",
            "[np.float64(0.9787637053490955), np.float64(1.872354733042774), np.float64(2.68619688446061), np.float64(3.0438628678212196)]\n",
            "38\n",
            "[np.float64(0.9844060703250883), np.float64(1.8680597227066602), np.float64(2.7000532027027164), np.float64(3.062558382855072)]\n",
            "39\n",
            "[np.float64(0.9889412890390032), np.float64(1.8662526497173832), np.float64(2.7080133432650464), np.float64(3.0837339543333333)]\n",
            "40\n",
            "[np.float64(0.9915602046946859), np.float64(1.8665581833696778), np.float64(2.7119463613372465), np.float64(3.110389078879799)]\n",
            "41\n",
            "[np.float64(0.9914730854361953), np.float64(1.8686909697417173), np.float64(2.7143906219594016), np.float64(3.140338144536372)]\n",
            "42\n",
            "[np.float64(0.9884160317274102), np.float64(1.87235088761561), np.float64(2.7171819797720596), np.float64(3.1668731869533473)]\n",
            "43\n",
            "[np.float64(0.9830780230113911), np.float64(1.8769110140716225), np.float64(2.7205255534097135), np.float64(3.1829645170454075)]\n",
            "44\n",
            "[np.float64(0.9772254856426671), np.float64(1.881316092487097), np.float64(2.7231091779811063), np.float64(3.1851102064243535)]\n",
            "45\n",
            "[np.float64(0.9732991785710183), np.float64(1.8842952680133973), np.float64(2.7232157522096436), np.float64(3.174755203291772)]\n",
            "46\n",
            "[np.float64(0.9734139570441445), np.float64(1.8847474237746928), np.float64(2.7200043052516865), np.float64(3.1576676266179717)]\n",
            "47\n",
            "[np.float64(0.978148668459976), np.float64(1.882107237821543), np.float64(2.71396739982809), np.float64(3.142226544648752)]\n",
            "48\n",
            "[np.float64(0.9859392336480429), np.float64(1.8765734270305006), np.float64(2.70637459064788), np.float64(3.1370352497453795)]\n",
            "49\n",
            "[np.float64(0.9936682860820886), np.float64(1.8691135255286568), np.float64(2.6983881846887514), np.float64(3.1466488612022756)]\n",
            "50\n",
            "[np.float64(0.9981671014479978), np.float64(1.8611637716356988), np.float64(2.6905435035952703), np.float64(3.166041144635997)]\n",
            "51\n",
            "[np.float64(0.9976466810239287), np.float64(1.8541128352464498), np.float64(2.6828139347366027), np.float64(3.1863016554487262)]\n",
            "52\n",
            "[np.float64(0.9922323239107672), np.float64(1.848913445271086), np.float64(2.67521045415718), np.float64(3.2002687395450686)]\n",
            "53\n",
            "[np.float64(0.9835228276252295), np.float64(1.8460975837802607), np.float64(2.6685086714685555), np.float64(3.2053141412452453)]\n",
            "54\n",
            "[np.float64(0.9736889189684597), np.float64(1.8460447187478666), np.float64(2.664242306752657), np.float64(3.2035952953178604)]\n",
            "55\n",
            "[np.float64(0.9646794660737725), np.float64(1.8491192165648551), np.float64(2.6635537139123584), np.float64(3.1990516647146703)]\n",
            "56\n",
            "[np.float64(0.957800212455221), np.float64(1.8555373717689885), np.float64(2.665904526665933), np.float64(3.1928208058667242)]\n",
            "57\n",
            "[np.float64(0.953638017213989), np.float64(1.8651351264192604), np.float64(2.6691201556520543), np.float64(3.183815337846522)]\n",
            "58\n",
            "[np.float64(0.9521807147394421), np.float64(1.87719672842893), np.float64(2.6708130451501435), np.float64(3.17087589285254)]\n",
            "59\n",
            "[np.float64(0.952967677943558), np.float64(1.890357443808055), np.float64(2.669872615170931), np.float64(3.1546847096204016)]\n",
            "60\n",
            "[np.float64(0.955157749479436), np.float64(1.9026173101414632), np.float64(2.666990369306541), np.float64(3.1364975992652093)]\n",
            "61\n",
            "[np.float64(0.9575452811936535), np.float64(1.9115894926205115), np.float64(2.664179795753415), np.float64(3.118718290862297)]\n",
            "62\n",
            "[np.float64(0.9587079616226528), np.float64(1.9150337373227564), np.float64(2.663764962146201), np.float64(3.105827916758283)]\n",
            "63\n",
            "[np.float64(0.9574314806912269), np.float64(1.9115872663902922), np.float64(2.667286904990368), np.float64(3.1024185626705822)]\n",
            "64\n",
            "[np.float64(0.9532903491064111), np.float64(1.9015250397606276), np.float64(2.6747344762307934), np.float64(3.109383795946905)]\n",
            "65\n",
            "[np.float64(0.9470319861255256), np.float64(1.8872475689800248), np.float64(2.684634562703282), np.float64(3.1226364776164086)]\n",
            "66\n",
            "[np.float64(0.9404711748200961), np.float64(1.8730147096269336), np.float64(2.6951146629027827), np.float64(3.1365018968859752)]\n",
            "67\n",
            "[np.float64(0.9358956228327503), np.float64(1.8635890188941464), np.float64(2.7050226521882594), np.float64(3.1480478706432646)]\n",
            "68\n",
            "[np.float64(0.9352445379726645), np.float64(1.8622079006354966), np.float64(2.71409603359674), np.float64(3.157127324856007)]\n",
            "69\n",
            "[np.float64(0.9394006218838752), np.float64(1.8691307052039532), np.float64(2.72231285766717), np.float64(3.1645535524730315)]\n",
            "70\n",
            "[np.float64(0.9478761934846645), np.float64(1.8817852129695312), np.float64(2.729248995908851), np.float64(3.171177364840808)]\n",
            "71\n",
            "[np.float64(0.959032236853846), np.float64(1.8962504741284703), np.float64(2.733925566486643), np.float64(3.1775755428290164)]\n",
            "72\n",
            "[np.float64(0.9707369076366462), np.float64(1.9089440897374708), np.float64(2.7352379585315996), np.float64(3.184033095897034)]\n",
            "73\n",
            "[np.float64(0.9811252078417717), np.float64(1.9176750626604255), np.float64(2.732780889512942), np.float64(3.1906191231015617)]\n",
            "74\n",
            "[np.float64(0.9890692579023049), np.float64(1.9218883426216415), np.float64(2.7274249142916833), np.float64(3.1967915670697495)]\n",
            "75\n",
            "[np.float64(0.9942036415060321), np.float64(1.922301645692833), np.float64(2.720996708722179), np.float64(3.2011204993759588)]\n",
            "76\n",
            "[np.float64(0.9966769493443535), np.float64(1.9202690327764684), np.float64(2.7152725742675656), np.float64(3.2020697619033456)]\n",
            "77\n",
            "[np.float64(0.996916816829027), np.float64(1.9171983243110962), np.float64(2.711303848042139), np.float64(3.198641371645868)]\n",
            "78\n",
            "[np.float64(0.9955352858475399), np.float64(1.9141969222638449), np.float64(2.709569442973363), np.float64(3.189860811205758)]\n",
            "79\n",
            "[np.float64(0.9932886883310577), np.float64(1.9119313179145745), np.float64(2.7102964354431234), np.float64(3.1749619574923464)]\n",
            "80\n",
            "[np.float64(0.9909626053592021), np.float64(1.9106059565006739), np.float64(2.713442229154983), np.float64(3.1561828201063458)]\n",
            "81\n",
            "[np.float64(0.9891669026944051), np.float64(1.910026097197326), np.float64(2.7186774996468754), np.float64(3.1405460203233435)]\n",
            "82\n",
            "[np.float64(0.9881455279346656), np.float64(1.9097992460061888), np.float64(2.7255331114164196), np.float64(3.1314356509698347)]\n",
            "83\n",
            "[np.float64(0.9877248811618592), np.float64(1.9096665724671729), np.float64(2.7333191095107585), np.float64(3.128690720663245)]\n",
            "84\n",
            "[np.float64(0.9874409890079954), np.float64(1.9097251160548425), np.float64(2.740746443491239), np.float64(3.132319462595282)]\n",
            "85\n",
            "[np.float64(0.9867692740709058), np.float64(1.9102493715452784), np.float64(2.7458332559159766), np.float64(3.1417438519202183)]\n",
            "86\n",
            "[np.float64(0.9853272017341049), np.float64(1.9112205491570093), np.float64(2.746560913737037), np.float64(3.1562409806566647)]\n",
            "87\n",
            "[np.float64(0.9829749313651399), np.float64(1.9121062456893718), np.float64(2.742032250159344), np.float64(3.1734267870653623)]\n",
            "88\n",
            "[np.float64(0.9798376016111082), np.float64(1.9122236956223984), np.float64(2.7334215736264635), np.float64(3.1882800821227617)]\n",
            "89\n",
            "[np.float64(0.9762995977150273), np.float64(1.9113362118066877), np.float64(2.7240029817663793), np.float64(3.197401136806879)]\n",
            "90\n",
            "[np.float64(0.9729546718959816), np.float64(1.9098652703562735), np.float64(2.7179071644827193), np.float64(3.1996770080003234)]\n",
            "91\n",
            "[np.float64(0.9704479112514101), np.float64(1.9085519050184536), np.float64(2.7181040086442456), np.float64(3.195904904237595)]\n",
            "92\n",
            "[np.float64(0.9692105528107419), np.float64(1.9079378615605074), np.float64(2.724905826405008), np.float64(3.1884328472426975)]\n",
            "93\n",
            "[np.float64(0.9692038595750957), np.float64(1.9080811284652253), np.float64(2.7360093960122445), np.float64(3.18059384151808)]\n",
            "94\n",
            "[np.float64(0.9698206464554784), np.float64(1.908614156096059), np.float64(2.7478740603225216), np.float64(3.1761523283487483)]\n",
            "95\n",
            "[np.float64(0.9700201319797028), np.float64(1.909026038487755), np.float64(2.7573778142308463), np.float64(3.1775375163063115)]\n",
            "96\n",
            "[np.float64(0.9686741611179575), np.float64(1.909014607801726), np.float64(2.7628310746280027), np.float64(3.1833295786680447)]\n",
            "97\n",
            "[np.float64(0.9650171562329257), np.float64(1.908752053336849), np.float64(2.7640304364284707), np.float64(3.189027210455811)]\n",
            "98\n",
            "[np.float64(0.9590096895692467), np.float64(1.9088665043714588), np.float64(2.76162677759167), np.float64(3.191269743862263)]\n",
            "99\n",
            "[np.float64(0.9514119142217687), np.float64(1.910012638476911), np.float64(2.7564823755574492), np.float64(3.1909619069576185)]\n",
            "total time 24.3048312664032\n"
          ]
        }
      ]
    },
    {
      "cell_type": "code",
      "source": [
        "import matplotlib.pyplot as plt\n",
        "import numpy as np\n",
        "\n",
        "dt = 0.1\n",
        "steps = len(entropy_list)\n",
        "times = np.arange(1, steps+1) * dt\n",
        "\n",
        "plt.figure(figsize=(6,4))\n",
        "plt.plot(times, entropy_list)\n",
        "plt.xlabel(\"Time\")\n",
        "plt.ylabel(\"entropy\")\n",
        "plt.show()"
      ],
      "metadata": {
        "colab": {
          "base_uri": "https://localhost:8080/",
          "height": 388
        },
        "id": "6WtjZn2DeVVc",
        "outputId": "25834918-e38e-4057-bcdb-c846004cda49"
      },
      "id": "6WtjZn2DeVVc",
      "execution_count": 6,
      "outputs": [
        {
          "output_type": "display_data",
          "data": {
            "text/plain": [
              "<Figure size 600x400 with 1 Axes>"
            ],
            "image/png": "[encoded data removed]"
          },
          "metadata": {}
        }
      ]
    },
    {
      "cell_type": "code",
      "source": [],
      "metadata": {
        "id": "XW3nPsNRoadm"
      },
      "id": "XW3nPsNRoadm",
      "execution_count": null,
      "outputs": []
    }
  ],
  "metadata": {
    "kernelspec": {
      "display_name": "Python 3",
      "name": "python3"
    },
    "language_info": {
      "codemirror_mode": {
        "name": "ipython",
        "version": 3
      },
      "file_extension": ".py",
      "mimetype": "text/x-python",
      "name": "python",
      "nbconvert_exporter": "python",
      "pygments_lexer": "ipython3",
      "version": "3.12.9"
    },
    "colab": {
      "provenance": [],
      "gpuType": "A100"
    },
    "accelerator": "GPU"
  },
  "nbformat": 4,
  "nbformat_minor": 5
}
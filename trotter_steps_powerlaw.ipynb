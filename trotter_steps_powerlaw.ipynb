{
  "cells": [
    {
      "cell_type": "markdown",
      "id": "0738b71e-b446-4f9d-a099-657bfa5e1ec1",
      "metadata": {
        "id": "0738b71e-b446-4f9d-a099-657bfa5e1ec1"
      },
      "source": [
        "Author: Jonah So\n",
        "\n",
        "email: jonahso@ucsb.edu"
      ]
    },
    {
      "cell_type": "code",
      "execution_count": 1,
      "id": "7dfdff13-d146-48fa-b997-1cc346e09487",
      "metadata": {
        "id": "7dfdff13-d146-48fa-b997-1cc346e09487"
      },
      "outputs": [],
      "source": [
        "import cudaq\n",
        "import numpy as np\n",
        "import time\n",
        "import sys\n",
        "from cudaq import spin\n",
        "from cudaq import State\n",
        "import matplotlib.pyplot as plt\n",
        "from typing import List\n",
        "# from plot_config import *"
      ]
    },
    {
      "cell_type": "code",
      "execution_count": 2,
      "id": "184bb2a6-9e34-4aa4-ae59-4fafaac5a5e4",
      "metadata": {
        "id": "184bb2a6-9e34-4aa4-ae59-4fafaac5a5e4"
      },
      "outputs": [],
      "source": [
        "@cudaq.kernel\n",
        "def get_initial_state(n_spins: int):\n",
        "    \"\"\"Create initial state |1010...>\"\"\"\n",
        "    qubits = cudaq.qvector(n_spins)\n",
        "    for i in range(0, n_spins, 2):\n",
        "        x(qubits[i])"
      ]
    },
    {
      "cell_type": "markdown",
      "id": "0dca7264-4a50-409f-8c05-b4f61a3db2bd",
      "metadata": {
        "id": "0dca7264-4a50-409f-8c05-b4f61a3db2bd"
      },
      "source": [
        "### First-Order Product Formula (PF1)\n",
        "\n",
        "We can decompose the Hamiltonian as:\n",
        "\n",
        "$\n",
        "H = \\sum_{l=1}^L H_l = \\sum_{l=1}^L c_l P_l\n",
        "$\n",
        "\n",
        "where:\n",
        "- $c_l \\in \\mathbb{R}$ are the coefficients,\n",
        "- $P_l$ are Pauli words (tensor products of Pauli matrices).\n",
        "\n",
        "The ideal time evolution operator is:\n",
        "$\n",
        "U(t) = e^{-i H t}\n",
        "$\n",
        "\n",
        "The first-order Trotter approximation replaces this by sequentially applying each term:\n",
        "$\n",
        "U(\\delta t) \\;\\approx\\; \\prod_{l} e^{-i H_l \\, \\delta t}\n",
        "$\n"
      ]
    },
    {
      "cell_type": "markdown",
      "id": "6104c279-b238-4a08-bbde-1154c13ac382",
      "metadata": {
        "id": "6104c279-b238-4a08-bbde-1154c13ac382"
      },
      "source": [
        "### Second-order Product Formulas (PF2)\n",
        "The second-order approximation is a combination of evolutions in both increasing and decreasing orders of indice.\n",
        "More formally, we can write this as:\n",
        "\n",
        "$\n",
        "U(\\delta t) \\;\\approx\\; \\prod_{l} e^{-i H_l \\, \\delta t / 2} \\prod_{l} e^{-i H_l \\, \\delta t / 2}  \n",
        "$\n",
        "\n",
        "- Each term $H_l$ is applied twice with a half-step $\\delta t / 2$.\n",
        "- The first product applies the exponentials in increasing order of $l$.\n",
        "- The second product applies them in decreasing order of $l$."
      ]
    },
    {
      "cell_type": "markdown",
      "id": "233965a0-62fa-4dbe-8ddc-c04287946eb3",
      "metadata": {
        "id": "233965a0-62fa-4dbe-8ddc-c04287946eb3"
      },
      "source": [
        "The following code creates the model that was used in the paper: **QIMF**\n",
        "\n",
        "The hamiltonian is defined as the following:\n",
        "\n",
        "$\n",
        "H \\;=\\;\n",
        "h_x \\sum_{j=1}^N X_j \\;+\\;\n",
        "h_y \\sum_{j=1}^N Y_j \\;+\\;\n",
        "J \\sum_{j=1}^{N-1} X_j X_{j+1}\n",
        "$\n",
        "\n",
        "- $X_j, Y_j, Z_j$: Pauli operators on qubit \\(j\\).\n"
      ]
    },
    {
      "cell_type": "code",
      "execution_count": 3,
      "id": "b0fed87f-0ea8-4ea3-8d65-a98252f00553",
      "metadata": {
        "id": "b0fed87f-0ea8-4ea3-8d65-a98252f00553"
      },
      "outputs": [],
      "source": [
        "def create_hamiltonian_qimf(n_spins: int, J: float, h_x: float, h_y: float):\n",
        "    A = 0\n",
        "    B = 0\n",
        "    for j in range(n_spins - 1):\n",
        "        A += J * spin.x(j) * spin.x(j + 1)\n",
        "\n",
        "    for j in range(n_spins):\n",
        "        A += h_x * spin.x(j)\n",
        "        B += h_y * spin.y(j)\n",
        "\n",
        "    return A, B, A+B"
      ]
    },
    {
      "cell_type": "code",
      "source": [
        "# H_pl = Power_Law(n=5, alpha=4, Jx=1, Jy=1, Jz=1, hx=1, hy=1, hz=1, pbc=False, verbose=True)\n",
        "def create_powerlaw_hamiltonian(n_spins: int, Jx: float = 1.0, Jy: float = 1.0,\n",
        "                                Jz: float = 1.0, h_x: float = 1.0, h_y: float = 1.0, h_z: float = 1.0, alpha: float = 4.0):\n",
        "    A = 0\n",
        "    B = 0\n",
        "    for i in range(n_spins):\n",
        "        for j in range(i + 1, n_spins):\n",
        "            r = j - i\n",
        "            A += (Jx / (r ** alpha)) * spin.x(i) * spin.x(j)\n",
        "            A += (Jy / (r ** alpha)) * spin.y(i) * spin.y(j)\n",
        "            A += (Jz / (r ** alpha)) * spin.z(i) * spin.z(j)\n",
        "\n",
        "    for i in range(n_spins):\n",
        "        B += h_x * spin.x(i)\n",
        "        B += h_y * spin.y(i)\n",
        "        B += h_z * spin.z(i)\n",
        "\n",
        "    return A, B, A + B\n"
      ],
      "metadata": {
        "id": "lMAipDAg00mN"
      },
      "id": "lMAipDAg00mN",
      "execution_count": 4,
      "outputs": []
    },
    {
      "cell_type": "markdown",
      "id": "4e73881a-d0f0-4818-9ded-684320ce6e66",
      "metadata": {
        "id": "4e73881a-d0f0-4818-9ded-684320ce6e66"
      },
      "source": [
        "### Trotter Approximation (PF1)\n",
        "The time-evolution operator\n",
        "$\n",
        "e^{-i H \\delta t}\n",
        "$\n",
        " can be split into two non-commuting parts:\n",
        "\n",
        "$\n",
        "A = h_x \\sum_j X_j \\;+\\; J \\sum_j X_j X_{j+1},\n",
        "\\qquad\n",
        "B = h_y \\sum_j Y_j\n",
        "$\n",
        "\n",
        "so that the first-order Trotter step is:\n",
        "\n",
        "$\n",
        "\\mathcal{U}_1(\\delta t) \\;\\approx\\; e^{-i A \\delta t} \\, e^{-i B \\delta t}\n",
        "$"
      ]
    },
    {
      "cell_type": "code",
      "execution_count": 5,
      "id": "89e43405-4d97-4c6c-8396-3e80ba3b7659",
      "metadata": {
        "id": "89e43405-4d97-4c6c-8396-3e80ba3b7659"
      },
      "outputs": [],
      "source": [
        "@cudaq.kernel\n",
        "def trotter_step_pf1 (state: cudaq.State, dt: float, c_a: List[complex], c_b: List[complex], words_a: List[cudaq.pauli_word], words_b: List[cudaq.pauli_word]):\n",
        "    qubits = cudaq.qvector(state)\n",
        "\n",
        "    for i in range(len(c_a)):\n",
        "        exp_pauli(-c_a[i].real * dt, qubits, words_a[i])\n",
        "\n",
        "    for i in range(len(c_b)):\n",
        "        exp_pauli(-c_b[i].real * dt, qubits, words_b[i])\n"
      ]
    },
    {
      "cell_type": "markdown",
      "id": "1fc9ba77-f2a8-4f7f-8874-e220fd17ae63",
      "metadata": {
        "id": "1fc9ba77-f2a8-4f7f-8874-e220fd17ae63"
      },
      "source": [
        "### Trotter Approximation (PF2)\n",
        "Similar to PF1, we can define\n",
        "\n",
        "$\n",
        "U(\\delta t) \\;\\approx\\;\n",
        "e^{-i A \\, \\tfrac{\\delta t}{2}} \\,\n",
        "e^{-i B \\, \\delta t} \\,\n",
        "e^{-i A \\, \\tfrac{\\delta t}{2}}\n",
        "$\n",
        "\n",
        "We apply all A-terms again with half timestep $\\delta t / 2$, in reverse order for symmetry."
      ]
    },
    {
      "cell_type": "code",
      "execution_count": 6,
      "id": "08c6bb36-f68c-44bd-80ff-6d56fcc9db4b",
      "metadata": {
        "id": "08c6bb36-f68c-44bd-80ff-6d56fcc9db4b"
      },
      "outputs": [],
      "source": [
        "@cudaq.kernel\n",
        "def trotter_step_pf2(state: cudaq.State, dt: float, c_a: List[complex], c_b: List[complex], words_a: List[cudaq.pauli_word], words_b: List[cudaq.pauli_word]):\n",
        "\n",
        "    qubits = cudaq.qvector(state)\n",
        "\n",
        "    for i in range(len(words_a)):\n",
        "        exp_pauli(-c_a[i].real * (0.5*dt), qubits, words_a[i])\n",
        "\n",
        "    for i in range(len(words_b)):\n",
        "        exp_pauli(-c_b[i].real * dt, qubits, words_b[i])\n",
        "\n",
        "    for i in range(len(words_a)-1, -1, -1):\n",
        "        exp_pauli(-c_a[i].real * (0.5*dt), qubits, words_a[i])\n"
      ]
    },
    {
      "cell_type": "markdown",
      "id": "01b92856-3ac9-4e36-a930-0efdbb8076da",
      "metadata": {
        "id": "01b92856-3ac9-4e36-a930-0efdbb8076da"
      },
      "source": [
        "Here, we extract coefficients and words from Hamiltonian for decomposition."
      ]
    },
    {
      "cell_type": "code",
      "execution_count": 7,
      "id": "f338169f-0064-405c-9770-0a67ce669d52",
      "metadata": {
        "id": "f338169f-0064-405c-9770-0a67ce669d52"
      },
      "outputs": [],
      "source": [
        "def extractCoefficients(hamiltonian: cudaq.SpinOperator):\n",
        "    result = []\n",
        "    for term in hamiltonian:\n",
        "        result.append(term.get_coefficient())\n",
        "    return result\n",
        "\n",
        "def extractWords(hamiltonian: cudaq.SpinOperator):\n",
        "    n_spins = hamiltonian.qubit_count\n",
        "    result = []\n",
        "    for term in hamiltonian:\n",
        "        result.append(term.get_pauli_word(n_spins))\n",
        "    return result"
      ]
    },
    {
      "cell_type": "markdown",
      "id": "ddafbee3-4a29-44bb-b193-33b4440ec770",
      "metadata": {
        "id": "ddafbee3-4a29-44bb-b193-33b4440ec770"
      },
      "source": [
        "### Entropy Measure\n",
        "\n",
        "Given a pure state $|\\psi\\rangle$ of an $n$-qubit system, the reduced density matrix for a subset of qubits $A$ is\n",
        "\n",
        "$\n",
        "\\rho_A = \\mathrm{Tr}_B \\big( |\\psi\\rangle \\langle \\psi | \\big),\n",
        "$\n",
        "\n",
        "where $B$ is the set of qubits traced out.\n",
        "\n",
        "We can quantify its entanglement with the rest of the system by calculating von Neumann entropy:\n",
        "\n",
        "$S(\\rho) = - \\text {Tr} [\\rho \\log \\rho] = - \\sum_i \\lambda_i \\log_2 \\lambda_i$\n",
        "\n",
        "where $\\lambda_i$ are the eigenvalues of the reduced density matrix."
      ]
    },
    {
      "cell_type": "code",
      "execution_count": 8,
      "id": "740ba553-1caa-4407-951a-76bc19e0c238",
      "metadata": {
        "id": "740ba553-1caa-4407-951a-76bc19e0c238"
      },
      "outputs": [],
      "source": [
        "import cupy as cp\n",
        "def partial_trace (psi: cp.ndarray, keep: List[int], n_qubits: int) -> cp.ndarray:\n",
        "    psi = psi / cp.linalg.norm(psi)\n",
        "\n",
        "    traced_out = [i for i in range(n_qubits) if i not in keep]\n",
        "    dim_keep = 2 ** len(keep)\n",
        "    dim_traced = 2 ** len(traced_out)\n",
        "    psi = psi.reshape([2] * n_qubits)\n",
        "    perm = keep + traced_out\n",
        "    psi = psi.transpose(perm)\n",
        "    psi = psi.reshape(dim_keep, dim_traced)\n",
        "\n",
        "    rho_A = psi @ psi.conj().T\n",
        "    return rho_A"
      ]
    },
    {
      "cell_type": "code",
      "execution_count": 9,
      "id": "8d77d00c-012a-4436-95a4-1d7eab1b7bcb",
      "metadata": {
        "id": "8d77d00c-012a-4436-95a4-1d7eab1b7bcb"
      },
      "outputs": [],
      "source": [
        "def entropy(rho):\n",
        "    eigvals = cp.linalg.eigvalsh(rho)\n",
        "    eigvals = eigvals[eigvals > 0]\n",
        "    return -cp.sum(eigvals * cp.log2(eigvals))"
      ]
    },
    {
      "cell_type": "code",
      "execution_count": 10,
      "id": "fe95fce7-627c-4159-b5d1-365005f1feae",
      "metadata": {
        "id": "fe95fce7-627c-4159-b5d1-365005f1feae"
      },
      "outputs": [],
      "source": [
        "def purity(rho):\n",
        "    return cp.real(cp.trace(rho @ rho)).item()"
      ]
    },
    {
      "cell_type": "code",
      "execution_count": 11,
      "id": "154aae98-9226-48f1-a961-ccd170f529b5",
      "metadata": {
        "id": "154aae98-9226-48f1-a961-ccd170f529b5"
      },
      "outputs": [],
      "source": [
        "def simulation (n_spins: int, cal: str, sub: int, initial_state, r=100, h_x_val=0.8090, h_y_val=0.9045, J_val=1.0):\n",
        "    n = n_spins\n",
        "    state = initial_state\n",
        "    out_list = []\n",
        "    time_list = []\n",
        "\n",
        "    dt = 0.1\n",
        "    subsystem = list(range(sub))\n",
        "\n",
        "    h_x = np.full(n_spins, h_x_val)\n",
        "    h_y = np.full(n_spins, h_y_val)\n",
        "    h_z = np.zeros(n_spins)\n",
        "    J = 1.0\n",
        "\n",
        "    A, B, H = create_hamiltonian_qimf(n_spins = n_spins)\n",
        "    print(A)\n",
        "    print(B)\n",
        "\n",
        "    c_a = extractCoefficients(A)\n",
        "    c_b = extractCoefficients(B)\n",
        "    words_a = extractWords(A)\n",
        "    words_b = extractWords(B)\n",
        "\n",
        "    start_time = time.time()\n",
        "    for step in range(1, r + 1):\n",
        "        state = cudaq.get_state(trotter_step_pf1, state, dt, c_a, c_b, words_a, words_b)\n",
        "        psi = cp.array(state)\n",
        "        rho_A = partial_trace (psi, subsystem, n_qubits=n_spins)\n",
        "\n",
        "        if cal == 'purity':\n",
        "            S = purity(rho_A)\n",
        "        elif cal == 'entropy':\n",
        "            S = entropy(rho_A)\n",
        "        else:\n",
        "            print('invalid input')\n",
        "            return 1\n",
        "\n",
        "        out_list.append(S)\n",
        "        time_list.append(dt * step)\n",
        "\n",
        "    total_time = time.time() - start_time\n",
        "    print(f\"Simulation for subsystem {len(subsystem)} done in {total_time:.2f} seconds\")\n",
        "    out_np = np.array([x.get() if hasattr(x, 'get') else x for x in out_list])\n",
        "\n",
        "    return out_np, subsystem"
      ]
    },
    {
      "cell_type": "code",
      "execution_count": 12,
      "id": "a68d459c-7f70-4412-b22d-97c00db23104",
      "metadata": {
        "id": "a68d459c-7f70-4412-b22d-97c00db23104"
      },
      "outputs": [],
      "source": [
        "from cupyx.scipy.linalg import expm\n",
        "\n",
        "def tro_U (A, B, dt):\n",
        "    Am = cp.asarray(A.to_matrix(), dtype=cp.complex128)\n",
        "    Bm = cp.asarray(B.to_matrix(), dtype=cp.complex128)\n",
        "    U_a = expm(-1j * Am * dt)\n",
        "    U_b = expm(-1j * Bm * dt)\n",
        "    return U_a @ U_b\n",
        "\n",
        "def tro_next_state(U, state):\n",
        "    # return U_a @ (U_b @ state)\n",
        "    return U @ state"
      ]
    },
    {
      "cell_type": "code",
      "execution_count": 13,
      "id": "f3e5fe13-55ed-4ead-a1fa-bc42cd64d397",
      "metadata": {
        "id": "f3e5fe13-55ed-4ead-a1fa-bc42cd64d397"
      },
      "outputs": [],
      "source": [
        "import cupy as cp\n",
        "from cupyx.scipy.linalg import expm\n",
        "\n",
        "def ideal_U (H, dt):\n",
        "    Hm = cp.asarray(H.to_matrix())\n",
        "    return expm(-1j * Hm * dt)\n",
        "\n",
        "def ideal_next_state(U, state):\n",
        "    # psi = cp.asarray(state, dtype=cp.complex128)\n",
        "    return U @ state"
      ]
    },
    {
      "cell_type": "code",
      "execution_count": 14,
      "id": "492b5a9b-7ef8-4b3d-bef6-5b04acc8547c",
      "metadata": {
        "id": "492b5a9b-7ef8-4b3d-bef6-5b04acc8547c"
      },
      "outputs": [],
      "source": [
        "def trotter_error(psi_ideal, psi_trot):\n",
        "    return ((cp.linalg.norm(psi_ideal - psi_trot)))"
      ]
    },
    {
      "cell_type": "markdown",
      "id": "mZ2TBWRRv95i",
      "metadata": {
        "id": "mZ2TBWRRv95i"
      },
      "source": [
        "The following code is used for calculating the distance between the two density matrices represented by the state vectors. Use when phase change is not considered."
      ]
    },
    {
      "cell_type": "code",
      "execution_count": 15,
      "id": "f1ac4d6c-6a85-466a-9430-69d08aa51aae",
      "metadata": {
        "id": "f1ac4d6c-6a85-466a-9430-69d08aa51aae"
      },
      "outputs": [],
      "source": [
        "def trotter_error_dm (psi_ideal, psi_trotter):\n",
        "    dm_ideal = cp.outer(psi_ideal, psi_ideal.conj())\n",
        "    dm_trotter = cp.outer(psi_trotter, psi_trotter.conj())\n",
        "    return (cp.linalg.norm(dm_ideal - dm_trotter))"
      ]
    },
    {
      "cell_type": "markdown",
      "id": "MEDhhSmjwajD",
      "metadata": {
        "id": "MEDhhSmjwajD"
      },
      "source": [
        "Simulation with calculating trotter error between \"ideal evolution\" and trotterization."
      ]
    },
    {
      "cell_type": "code",
      "execution_count": 16,
      "id": "7421e3e9-00fb-412a-9b01-4c9b60103e55",
      "metadata": {
        "id": "7421e3e9-00fb-412a-9b01-4c9b60103e55"
      },
      "outputs": [],
      "source": [
        "def ideal_simulation (n_spins: int, cal: str, sub: int, initial_state: cudaq.State, ham: str, pf: int, r: int, h_x_val: float, h_y_val: float, J_val: float):\n",
        "    n = n_spins\n",
        "    ideal_state = initial_state\n",
        "    i_state = initial_state\n",
        "    t_state = initial_state\n",
        "\n",
        "    out_list_ideal = []\n",
        "    out_list_trotter = []\n",
        "\n",
        "    time_list = []\n",
        "    error_list = []\n",
        "\n",
        "    dt = 0.1\n",
        "    dt2 = 0.1\n",
        "    r2 = 1\n",
        "    m = 1\n",
        "\n",
        "    subsystem = list(range(sub))\n",
        "\n",
        "    h_x = np.full(n_spins, h_x_val)\n",
        "    h_y = np.full(n_spins, h_y_val)\n",
        "    h_z = np.zeros(n_spins)\n",
        "    J = 1.0\n",
        "\n",
        "    if ham == 'qimf':\n",
        "        A, B, H = create_hamiltonian_qimf(n_spins, J=J_val, h_x=h_x_val, h_y=h_y_val)\n",
        "        print(A)\n",
        "    elif ham == 'powerlaw':\n",
        "        A, B, H = create_powerlaw_hamiltonian(n_spins)\n",
        "    else:\n",
        "        print(\"invalid input\")\n",
        "\n",
        "    start_time = time.time()\n",
        "\n",
        "    c_a = extractCoefficients(A)\n",
        "    c_b = extractCoefficients(B)\n",
        "    words_a = extractWords(A)\n",
        "    words_b = extractWords(B)\n",
        "    # Uncomment the line below for ideal evolution\n",
        "    # U = ideal_U(H, dt)\n",
        "\n",
        "    i_state = ideal_state\n",
        "    # Here, we are performing multiple pf2 to mimick the ideal evolution. Adjust m as needed.\n",
        "    for step in range(1, r + 1):\n",
        "        for _ in range(m + 1):\n",
        "            i_state = cudaq.get_state(trotter_step_pf2, i_state, dt2, c_a, c_b, words_a, words_b)\n",
        "\n",
        "        psi_t = cp.asarray(t_state, dtype=cp.complex128)\n",
        "        # print(psi_t)\n",
        "        # if pf == 1:\n",
        "        #     t_state = cudaq.get_state(trotter_step_pf1, t_state, dt, c_a, c_b, words_a, words_b)\n",
        "        # elif pf == 2:\n",
        "        #     t_state2 = cudaq.get_state(trotter_step_pf2, t_state, dt, c_a, c_b, words_a, words_b)\n",
        "        # else:\n",
        "        #     print(\"Select 'pf1' or pf2'\")\n",
        "\n",
        "        ideal_state_new = cudaq.get_state(trotter_step_pf2, ideal_state, dt, c_a, c_b, words_a, words_b)\n",
        "\n",
        "        t_state = cudaq.get_state(trotter_step_pf1, ideal_state, dt, c_a, c_b, words_a, words_b)\n",
        "\n",
        "        ideal_state = i_state\n",
        "\n",
        "        psi_ideal = cp.asarray(ideal_state, dtype=cp.complex128)\n",
        "        psi_t = cp.asarray(t_state, dtype=cp.complex128)\n",
        "        tro_error = trotter_error (psi_ideal, psi_t)\n",
        "        # print(step, tro_error)\n",
        "\n",
        "        rho_A_ideal = partial_trace(psi_ideal, subsystem, n_qubits=n_spins)\n",
        "        rho_A_t = partial_trace(psi_t, subsystem, n_qubits=n_spins)\n",
        "\n",
        "        if cal == 'purity':\n",
        "            S = purity(rho_A_ideal)\n",
        "\n",
        "        elif cal == 'entropy':\n",
        "            S_ideal = entropy(rho_A_ideal)\n",
        "            S_t = entropy(rho_A_t)\n",
        "            temp = [step, S_ideal, S_t]\n",
        "            # print(temp)\n",
        "\n",
        "        else:\n",
        "            print('invalid input')\n",
        "            return 1\n",
        "\n",
        "        out_list_ideal.append(S_ideal)\n",
        "        out_list_trotter.append(S_t)\n",
        "        time_list.append(dt * step)\n",
        "        error_list.append(tro_error)\n",
        "\n",
        "    total_time = time.time() - start_time\n",
        "    print(f\"Simulation for subsystem {len(subsystem)} done in {total_time:.2f} seconds\")\n",
        "    out_np_ideal= np.array([x.get() if hasattr(x, 'get') else x for x in out_list_ideal])\n",
        "    out_np_trotter = np.array([x.get() if hasattr(x, 'get') else x for x in out_list_trotter])\n",
        "    error_np = np.array([x.get() if hasattr(x, 'get') else x for x in error_list])\n",
        "\n",
        "    return out_np_ideal, out_np_trotter, subsystem, error_np"
      ]
    },
    {
      "cell_type": "code",
      "execution_count": 18,
      "id": "6b30876a-01b0-47c2-9cb9-28bc5a039b76",
      "metadata": {
        "id": "6b30876a-01b0-47c2-9cb9-28bc5a039b76"
      },
      "outputs": [],
      "source": [
        "def ideal_plot (n, initial_state, subsystem, t_list, r, ham, h_x_val, h_y_val, J_val, pf, typical: bool = True):\n",
        "    if (typical):\n",
        "        fig, axes = plt.subplots(nrows=1, ncols=1)\n",
        "        ax2 = axes.twinx()\n",
        "        for i in range(1, subsystem + 1):\n",
        "            n_12_p, n_trotter, sub_12_p, error = ideal_simulation (n, 'entropy', i, initial_state, ham, pf, r, h_x_val, h_y_val, J_val)\n",
        "            ax2.plot(t_list, n_12_p, label=f'typical {i}-RDM entropy')\n",
        "            ax2.plot(t_list, n_trotter, label=f'typical {i}-RDM entropy trotter')\n",
        "            axes.plot(t_list, error, label='trotter error', linestyle=\":\")\n",
        "\n",
        "        ax2.legend()\n",
        "        ax2.set_xlabel('Time')\n",
        "        ax2.set_ylabel('Entropy')\n",
        "        axes.set_ylabel(\"trotter error\")\n",
        "        # axes.set_yticks(y_ticks)\n",
        "        axes.legend()\n",
        "\n",
        "    if (typical == False):\n",
        "        fig, axes = plt.subplots(nrows=1, ncols=2, figsize=(18, 7), sharex=True)\n",
        "        for i in range(1, subsystem + 1):\n",
        "            n_12_p, sub_12_p = ideal_simulation (n, 'entropy', i, initial_state, r=r, h_x_val=0.8090, h_y_val=0.9045, J_val=1.0)\n",
        "            axes[0].plot(t_list, n_12_p, label=f'typical {i}-RDM entropy')\n",
        "        for i in range(1, subsystem + 1):\n",
        "            n_12_p, sub_12_p = ideal_simulation (n, 'entropy', i, initial_state, r=r, h_x_val=0.0, h_y_val=0.9045, J_val=1.0)\n",
        "            axes[1].plot(t_list, n_12_p, label=f'atypical {i}-RDM entropy')\n",
        "        axes[1].legend()\n",
        "        axes[1].set_xlabel('Time')\n",
        "        axes[1].set_ylabel('Entropy')\n",
        "\n",
        "        axes[0].legend()\n",
        "        axes[0].set_xlabel('Time')\n",
        "        axes[0].set_ylabel('Entropy')\n"
      ]
    },
    {
      "cell_type": "code",
      "source": [
        "n = 20\n",
        "r = 100\n",
        "initial_state = cudaq.get_state(get_initial_state, n)\n",
        "ham = 'powerlaw'\n",
        "subsystem = 4\n",
        "t_list = np.linspace(0, 10, 100)\n",
        "# y_ticks = [0.003, 0.004, 0.005, 0.006, 0.007, 0.008, 0.009, 0.01, 0.011, 0.012, 0.013]\n",
        "# y_ticks = [0.04, 0.05, 0.06, 0.07, 0.08, 0.09, 0.10, 0.11, 0.12, 0.13, 0.14]\n",
        "# y_ticks = [0.05, 0.075, 0.1, 0.125, 0.15]\n",
        "\n",
        "h_x_val, h_y_val, J_val = 0.8090, 0.9045, 1\n",
        "pf = 2\n",
        "\n",
        "ideal_plot (n, initial_state, subsystem, t_list, r, ham, h_x_val, h_y_val, J_val, pf)"
      ],
      "metadata": {
        "colab": {
          "base_uri": "https://localhost:8080/",
          "height": 534
        },
        "id": "XvMSiLtS1HlC",
        "outputId": "348815c3-3bf2-4492-ae1f-3c5272a9c780"
      },
      "id": "XvMSiLtS1HlC",
      "execution_count": 20,
      "outputs": [
        {
          "output_type": "stream",
          "name": "stderr",
          "text": [
            "/tmp/ipython-input-722446967.py:4: DeprecationWarning: use `evaluate_coefficient` instead\n",
            "  result.append(term.get_coefficient())\n"
          ]
        },
        {
          "output_type": "stream",
          "name": "stdout",
          "text": [
            "Simulation for subsystem 1 done in 12.68 seconds\n",
            "Simulation for subsystem 2 done in 12.56 seconds\n",
            "Simulation for subsystem 3 done in 12.58 seconds\n",
            "Simulation for subsystem 4 done in 12.59 seconds\n"
          ]
        },
        {
          "output_type": "display_data",
          "data": {
            "text/plain": [
              "<Figure size 640x480 with 2 Axes>"
            ],
            "image/png": "[encoded data removed]"
          },
          "metadata": {}
        }
      ]
    },
    {
      "cell_type": "code",
      "source": [],
      "metadata": {
        "id": "jcqddSZC0tIz"
      },
      "id": "jcqddSZC0tIz",
      "execution_count": null,
      "outputs": []
    }
  ],
  "metadata": {
    "accelerator": "GPU",
    "colab": {
      "gpuType": "A100",
      "machine_shape": "hm",
      "provenance": []
    },
    "kernelspec": {
      "display_name": "Python 3",
      "name": "python3"
    },
    "language_info": {
      "codemirror_mode": {
        "name": "ipython",
        "version": 3
      },
      "file_extension": ".py",
      "mimetype": "text/x-python",
      "name": "python",
      "nbconvert_exporter": "python",
      "pygments_lexer": "ipython3",
      "version": "3.12.9"
    }
  },
  "nbformat": 4,
  "nbformat_minor": 5
}
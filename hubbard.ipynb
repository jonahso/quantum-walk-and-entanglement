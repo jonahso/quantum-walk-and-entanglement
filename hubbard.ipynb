{
 "cells": [
  {
   "attachments": {},
   "cell_type": "markdown",
   "metadata": {
    "id": "795sU01of3pF"
   },
   "source": [
    "# Fermi-Hubbard model (H=A+B+C)\n",
    "\n",
    "The one-dimensional Fermi-Hubbard Hamiltonian\n",
    "\n",
    "$$\n",
    "H = - J \\sum_{j = 1}^{L - 1} \\sum_{\\sigma \\in \\{ \\uparrow, \\downarrow \\}} c_{j, \\sigma}^\\dagger c_{j + 1, \\sigma} + \\text{h.c.} + U \\sum_{j} n_{j\\uparrow} n_{j\\downarrow}\n",
    "$$\n",
    "\n",
    "where $j = 1, ..., L$ denotes site/orbital and $\\sigma \\in \\{ \\uparrow, \\downarrow \\}$ denotes spin. \n",
    "\n",
    "Reference: [Trotter error with commutator scaling for the Fermi-Hubbard model](http://arxiv.org/abs/2306.10603)"
   ]
  },
  {
   "cell_type": "code",
   "execution_count": 12,
   "metadata": {},
   "outputs": [],
   "source": [
    "import numpy as np\n",
    "from scipy.linalg import expm\n",
    "import openfermion as of\n",
    "\n",
    "from trotter import *\n",
    "\n",
    "fig_dir, data_dir = './figs', './data'"
   ]
  },
  {
   "cell_type": "code",
   "execution_count": 13,
   "metadata": {},
   "outputs": [],
   "source": [
    "\"\"\"Define the Hubbard Hamiltonian by OpenFermion.\"\"\"\n",
    "class hubbard_openfermion:\n",
    "    def __init__(self, nsites, U, J=-1.0, pbc=False, verbose=False):\n",
    "        # Each site has two spins.\n",
    "        self.n_qubits = 2 * nsites\n",
    "\n",
    "        def fop_2_sparse(fops):\n",
    "            return [of.get_sparse_operator(fop, n_qubits=self.n_qubits).todense() for fop in fops ]\n",
    "\n",
    "        # One-body (hopping) terms.\n",
    "        self.one_body_fops = [op + of.hermitian_conjugated(op) for op in (\n",
    "                of.FermionOperator(((i, 1), (i + 2, 0)), coefficient=J) for i in range(self.n_qubits - 2))]\n",
    "        self.one_body_L = len(self.one_body_fops)\n",
    "        self.one_body_sparse = fop_2_sparse(self.one_body_fops)\n",
    "\n",
    "        # Two-body (charge-charge) terms.\n",
    "        self.two_body_fops = [\n",
    "            of.FermionOperator(((i, 1), (i, 0), (i + 1, 1), (i + 1, 0)), coefficient=U)\n",
    "            for i in range(0, self.n_qubits, 2)]\n",
    "        self.two_body_sparse = fop_2_sparse(self.two_body_fops)\n",
    "\n",
    "        self.h_fop = of.fermi_hubbard(1, nsites, tunneling=-J, coulomb=U, periodic=pbc)\n",
    "        self.h_sparse = of.get_sparse_operator(self.h_fop)\n",
    "        self.ground_energy, self.ground_state = of.get_ground_state(self.h_sparse)\n",
    "        assert sum(self.one_body_fops) + sum(self.two_body_fops) == self.h_fop\n",
    "        if verbose: \n",
    "            print('one_body_terms: \\n', self.one_body_fops)\n",
    "            print('one_body_L: ', self.one_body_L)\n",
    "            # print('one_body[0]: \\n', self.one_body_sparse[0])\n",
    "            print('one_body[0]: \\n', of.get_sparse_operator(self.one_body_fops[0]))\n",
    "            # print('sparse two-body: \\n', of.get_sparse_operator(sum(self.two_body_fops)))\n",
    "            # print('sparse two-body[0]: \\n', self.two_body_sparse[0])\n",
    "            # print('ground energy: \\n', self.ground_energy)\n",
    "        # return ground_energy\n",
    "\n",
    "        self.one_body_01 = [term for index, term in enumerate(self.one_body_fops) if index % 4 == 0 or index % 4 == 1]\n",
    "        self.one_body_01_sparse = fop_2_sparse(self.one_body_01)\n",
    "        # print(self.one_body_01)\n",
    "        self.one_body_23 = [term for index, term in enumerate(self.one_body_fops) if index % 4 == 2 or index % 4 == 3]\n",
    "        self.one_body_23_sparse = fop_2_sparse(self.one_body_23)\n",
    "        # print(self.one_body_23)\n",
    "        assert sum(self.one_body_01) + sum(self.one_body_23) == sum(self.one_body_fops)\n",
    "\n",
    "        self.one_body_0 = [term for index, term in enumerate(self.one_body_fops) if index % 3 == 0]\n",
    "        self.one_body_1 = [term for index, term in enumerate(self.one_body_fops) if index % 3 == 1]\n",
    "        self.one_body_2 = [term for index, term in enumerate(self.one_body_fops) if index % 3 == 2]\n",
    "\n",
    "        assert sum(self.one_body_0) + sum(self.one_body_1)  + sum(self.one_body_2) == sum(self.one_body_fops)\n",
    "\n",
    "        self.one_body_0_sparse = [term for index, term in enumerate(self.one_body_sparse) if index % 3 == 0]\n",
    "        self.one_body_1_sparse = [term for index, term in enumerate(self.one_body_sparse) if index % 3 == 1]\n",
    "        self.one_body_2_sparse = [term for index, term in enumerate(self.one_body_sparse) if index % 3 == 2]\n"
   ]
  },
  {
   "cell_type": "markdown",
   "metadata": {},
   "source": [
    "For this model, we directly use matrix"
   ]
  },
  {
   "cell_type": "code",
   "execution_count": 14,
   "metadata": {},
   "outputs": [
    {
     "name": "stdout",
     "output_type": "stream",
     "text": [
      "one_body_terms: \n",
      " [-1.0 [0^ 2] +\n",
      "-1.0 [2^ 0], -1.0 [1^ 3] +\n",
      "-1.0 [3^ 1], -1.0 [2^ 4] +\n",
      "-1.0 [4^ 2], -1.0 [3^ 5] +\n",
      "-1.0 [5^ 3], -1.0 [4^ 6] +\n",
      "-1.0 [6^ 4], -1.0 [5^ 7] +\n",
      "-1.0 [7^ 5]]\n",
      "one_body_L:  6\n",
      "one_body[0]: \n",
      "   (4, 1)\t(-1+0j)\n",
      "  (6, 3)\t(1+0j)\n",
      "  (1, 4)\t(-1+0j)\n",
      "  (3, 6)\t(1+0j)\n"
     ]
    }
   ],
   "source": [
    "n = 4\n",
    "# n = 5\n",
    "r = 10000\n",
    "epsilon = 1e-3\n",
    "J, U = -1, 1\n",
    "\n",
    "t_num = 100\n",
    "t_list = np.logspace(-1, 3, num=t_num)\n",
    "# t_list = np.logspace(1.5, 3, num=t_num)\n",
    "hubbard = hubbard_openfermion(n, U, verbose=True)\n",
    "h_group = [sum(hubbard.one_body_01_sparse), sum(hubbard.one_body_23_sparse), sum(hubbard.two_body_sparse)]\n",
    "exact_U_list = [expm(-1j * t * sum(h_group)) for t in t_list]\n",
    "# pf1_list = [op_error(matrix_power(unitary_matrix_product(h_group, t=t/r), r), exact_U_list[i]) for i, t in enumerate(t_list)]\n",
    "data_r = {key:[] for key in ['r', 't', 'emp_pf1', 'emp_pf2', 'bnd_pf1', 'bnd_pf2', 'bnd_our']}\n",
    "data_r['r'], data_r['t'] = r, t_list  \n",
    "\n",
    "# print('Hamiltonian groups: ', h_group)"
   ]
  },
  {
   "cell_type": "code",
   "execution_count": 11,
   "metadata": {},
   "outputs": [],
   "source": [
    "## store data\n",
    "# np.save(f\"{data_dir}/Hubbard_Tri_n={n}_r={r}.npy\", data_r)\n",
    "# n = 4\n",
    "# r = 10000\n",
    "# data_r = np.load(f\"{data_dir}/Hubbard_Tri_n={n}_r={r}.npy\", allow_pickle=True).item()"
   ]
  }
 ],
 "metadata": {
  "colab": {
   "collapsed_sections": [],
   "name": "fermi_hubbard.ipynb",
   "toc_visible": true
  },
  "kernelspec": {
   "display_name": "base",
   "language": "python",
   "name": "python3"
  },
  "language_info": {
   "codemirror_mode": {
    "name": "ipython",
    "version": 3
   },
   "file_extension": ".py",
   "mimetype": "text/x-python",
   "name": "python",
   "nbconvert_exporter": "python",
   "pygments_lexer": "ipython3",
   "version": "3.10.16"
  }
 },
 "nbformat": 4,
 "nbformat_minor": 0
}

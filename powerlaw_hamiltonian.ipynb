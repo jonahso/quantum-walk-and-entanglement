{
 "cells": [
  {
   "cell_type": "code",
   "execution_count": null,
   "id": "9e70d9fa",
   "metadata": {},
   "outputs": [],
   "source": [
    "# H_pl = Power_Law(n=5, alpha=4, Jx=1, Jy=1, Jz=1, hx=1, hy=1, hz=1, pbc=False, verbose=True)\n",
    "def create_powerlaw_hamiltonian(n_spins: int, Jx: float = 1.0, Jy: float = 1.0, \n",
    "                                Jz: float = 1.0, h_x: float = 1.0, h_y: float = 1.0, h_z: float = 1.0, alpha: float = 4.0):\n",
    "    A = 0 \n",
    "    B = 0 \n",
    "    for i in range(n_spins):\n",
    "        for j in range(i + 1, n_spins):\n",
    "            r = j - i\n",
    "            A += (Jx / (r ** alpha)) * spin.x(i) * spin.x(j)\n",
    "            A += (Jy / (r ** alpha)) * spin.y(i) * spin.y(j)\n",
    "            A += (Jz / (r ** alpha)) * spin.z(i) * spin.z(j)\n",
    "\n",
    "    for i in range(n_spins):\n",
    "        B += h_x * spin.x(i)\n",
    "        B += h_y * spin.y(i)\n",
    "        B += h_z * spin.z(i)\n",
    "\n",
    "    return A, B, A + B\n"
   ]
  }
 ],
 "metadata": {
  "language_info": {
   "name": "python"
  }
 },
 "nbformat": 4,
 "nbformat_minor": 5
}
